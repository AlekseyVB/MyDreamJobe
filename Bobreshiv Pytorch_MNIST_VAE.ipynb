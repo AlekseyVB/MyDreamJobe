{
  "cells": [
    {
      "attachments": {},
      "cell_type": "markdown",
      "metadata": {
        "id": "ggAGexgCTiEH"
      },
      "source": [
        "# Выполнение в google colab\n"
      ]
    },
    {
      "cell_type": "code",
      "execution_count": 1,
      "metadata": {
        "id": "7AowGFGi8Oah"
      },
      "outputs": [],
      "source": [
        "# Этим блоком будем визуализировать\n",
        "import numpy as np\n",
        "import matplotlib.pyplot as plt\n",
        "%matplotlib inline\n",
        "from PIL import Image\n",
        "import scipy\n",
        "\n",
        "# Библиотеки Pytorch\n",
        "import torch \n",
        "import torchvision                       # здесь много других датасетов и трансформаций для картинок\n",
        "import torch.nn as nn                    # здесь все слои\n",
        "import torch.utils.data as data          # работа с загрузчиком данных\n",
        "import torchvision.transforms as transforms\n",
        "import torchvision.datasets as dsets     # работа с классом Датасет\n",
        "from torch.autograd import Variable      # для автоматического дифференциатора\n",
        "\n",
        "from __future__ import print_function\n",
        "from torch import optim\n",
        "from torch.nn import functional as F\n",
        "from torchvision.utils import save_image\n",
        "\n",
        "# Визуализации графа\n",
        "from torch.utils.tensorboard import SummaryWriter \n",
        "import datetime,os,time"
      ]
    },
    {
      "cell_type": "code",
      "execution_count": 4,
      "metadata": {
        "colab": {
          "base_uri": "https://localhost:8080/"
        },
        "id": "ea8-XOOWtn_O",
        "outputId": "66013ad9-9d28-41fd-a741-424e9fe9953e"
      },
      "outputs": [
        {
          "name": "stdout",
          "output_type": "stream",
          "text": [
            "Looking in indexes: https://pypi.org/simple, https://us-python.pkg.dev/colab-wheels/public/simple/\n",
            "Requirement already satisfied: Pillow in /usr/local/lib/python3.8/dist-packages (7.1.2)\n"
          ]
        }
      ],
      "source": [
        "scipy.__version__\n",
        "%pip install Pillow\n",
        "# Если нужна версия меньше 1.2.0, то:\n",
        "# pip uninstall scipy==**ваша версия**\n",
        "# pip install scipy==1.3.1 "
      ]
    },
    {
      "cell_type": "code",
      "execution_count": 3,
      "metadata": {
        "colab": {
          "base_uri": "https://localhost:8080/"
        },
        "id": "hRGETiVsiI5b",
        "outputId": "03d49c0d-9504-4631-9189-02c461c43bed"
      },
      "outputs": [
        {
          "name": "stdout",
          "output_type": "stream",
          "text": [
            "Mounted at /content/drive\n"
          ]
        }
      ],
      "source": [
        "# При работе в google colabe \n",
        "# импортируем библиотеку и подключаем диск\n",
        "\n",
        "from google.colab import drive\n",
        "drive.mount('/content/drive')"
      ]
    },
    {
      "cell_type": "markdown",
      "metadata": {
        "id": "FQ-M3IiR8T0b"
      },
      "source": [
        "Задаем параметры"
      ]
    },
    {
      "cell_type": "code",
      "execution_count": 40,
      "metadata": {
        "id": "_I_TTnEc8T0x"
      },
      "outputs": [],
      "source": [
        "inputSize = 784       # размер картинки 28х28\n",
        "numEpochs = 15        # количество эпох обучения \n",
        "learningRate = 0.001  # шаг обучения (коэффициент)\n",
        "hidden = 400          # размер скрытого слоя\n",
        "latent_dim = 80       # размер скрытого пространства\n",
        "# получаем сообщение о том какой чип используем GPU or CPU\n",
        "device = torch.device('cuda' if torch.cuda.is_available() else 'cpu')\n",
        "batchSize = 100       # размер выборки для обучения"
      ]
    },
    {
      "cell_type": "markdown",
      "metadata": {
        "id": "Ba2SL_ub8T04"
      },
      "source": [
        "Загружаем данные "
      ]
    },
    {
      "cell_type": "code",
      "execution_count": 6,
      "metadata": {
        "colab": {
          "base_uri": "https://localhost:8080/",
          "height": 423,
          "referenced_widgets": [
            "3d2cda70b14a4a3dbb87023a3a2f05b4",
            "bc232996261e4397bf2781b8011d62a4",
            "8b7d24f3b689476c900975cc847cc601",
            "093d739f51394495933f0bb63789d9ce",
            "b9784d8cbceb4fc9a16e4fd93a0dc1af",
            "548eb87eaaa8473a87541a313456b211",
            "02f7684b3c8e4fdbbea310af3ef7a5ab",
            "45456500fbe841cb9f6d5188218b5736",
            "02a868a33c264f1bad76541e17838386",
            "e503d6d768bb46148b46959b8757633a",
            "aef624635c48479da93723569c637bce",
            "132242b667f14b349bfacfcd98c3dc64",
            "c345e307c59a471f8b8ca587a0cae75b",
            "43b601b3b2dc4e028d1da33941a9ae16",
            "d2395d6e796941dea3d27f41fa50a04c",
            "675ee75e9cb5448fb97895087b53c5eb",
            "d019233c03db41cb855b5477049815d1",
            "edbf72cc35d34f5a9a3310811a98a6f0",
            "e7be669255fd47388c45569ec791bf8c",
            "d1d542b2e05844e29711177b33e3590c",
            "c310106e6dc6495fadde163246b6fe55",
            "1fd0d7e7514245bfb2d821629874cf67",
            "df2041c1b1b4402096edc3bd9ae7fa9c",
            "39fafe6a98704f4d9ff7275eb7d19ba1",
            "8131233e033e47b88bfba005e632587b",
            "1a7c1c0c9cc3488486de06796d4db964",
            "eae142d5cab2495f813f1e08f4876d19",
            "e10e77ee87b54b73b934e5e25a6ce317",
            "e993bd7504274ffda3a29af92d003a93",
            "7bc2ac2f0bc044eb9c8db2256037c728",
            "ccef703bcd05400a86327a3e5b53fc14",
            "25c855dd926143aa8f09db4cc37148d5",
            "6938d39491bc4ea7a0abae53641c450b",
            "e2a1b4def4e3476c9d0e66abc0ba4d81",
            "e9bddebbad1746b9a87afcf687e5a501",
            "dede77cd564f4c30bffb0da8b3f89f8e",
            "945eda398e0e460ea360d268879d0592",
            "6fe5f103ebef4816b5d724e99dd34c7b",
            "96a6a5330f44448cbf61da7346704025",
            "6f467668736244a8ae5b30e7bb5c5b02",
            "3f7c12d3eee24fa387e491b7d4a2e185",
            "d66e8cd54bb04d1ab283abdcce3d8d9f",
            "0f892b50e9cb4161b293857bfd12850b",
            "8673b054de434a17a6ef103f453ff02c"
          ]
        },
        "id": "Dk5f1SjP8T07",
        "outputId": "56abfe2c-d5b6-4bad-f55f-9fe65070badd"
      },
      "outputs": [
        {
          "name": "stdout",
          "output_type": "stream",
          "text": [
            "Downloading http://fashion-mnist.s3-website.eu-central-1.amazonaws.com/train-images-idx3-ubyte.gz\n",
            "Downloading http://fashion-mnist.s3-website.eu-central-1.amazonaws.com/train-images-idx3-ubyte.gz to ./data/FashionMNIST/raw/train-images-idx3-ubyte.gz\n"
          ]
        },
        {
          "data": {
            "application/vnd.jupyter.widget-view+json": {
              "model_id": "3d2cda70b14a4a3dbb87023a3a2f05b4",
              "version_major": 2,
              "version_minor": 0
            },
            "text/plain": [
              "  0%|          | 0/26421880 [00:00<?, ?it/s]"
            ]
          },
          "metadata": {},
          "output_type": "display_data"
        },
        {
          "name": "stdout",
          "output_type": "stream",
          "text": [
            "Extracting ./data/FashionMNIST/raw/train-images-idx3-ubyte.gz to ./data/FashionMNIST/raw\n",
            "\n",
            "Downloading http://fashion-mnist.s3-website.eu-central-1.amazonaws.com/train-labels-idx1-ubyte.gz\n",
            "Downloading http://fashion-mnist.s3-website.eu-central-1.amazonaws.com/train-labels-idx1-ubyte.gz to ./data/FashionMNIST/raw/train-labels-idx1-ubyte.gz\n"
          ]
        },
        {
          "data": {
            "application/vnd.jupyter.widget-view+json": {
              "model_id": "132242b667f14b349bfacfcd98c3dc64",
              "version_major": 2,
              "version_minor": 0
            },
            "text/plain": [
              "  0%|          | 0/29515 [00:00<?, ?it/s]"
            ]
          },
          "metadata": {},
          "output_type": "display_data"
        },
        {
          "name": "stdout",
          "output_type": "stream",
          "text": [
            "Extracting ./data/FashionMNIST/raw/train-labels-idx1-ubyte.gz to ./data/FashionMNIST/raw\n",
            "\n",
            "Downloading http://fashion-mnist.s3-website.eu-central-1.amazonaws.com/t10k-images-idx3-ubyte.gz\n",
            "Downloading http://fashion-mnist.s3-website.eu-central-1.amazonaws.com/t10k-images-idx3-ubyte.gz to ./data/FashionMNIST/raw/t10k-images-idx3-ubyte.gz\n"
          ]
        },
        {
          "data": {
            "application/vnd.jupyter.widget-view+json": {
              "model_id": "df2041c1b1b4402096edc3bd9ae7fa9c",
              "version_major": 2,
              "version_minor": 0
            },
            "text/plain": [
              "  0%|          | 0/4422102 [00:00<?, ?it/s]"
            ]
          },
          "metadata": {},
          "output_type": "display_data"
        },
        {
          "name": "stdout",
          "output_type": "stream",
          "text": [
            "Extracting ./data/FashionMNIST/raw/t10k-images-idx3-ubyte.gz to ./data/FashionMNIST/raw\n",
            "\n",
            "Downloading http://fashion-mnist.s3-website.eu-central-1.amazonaws.com/t10k-labels-idx1-ubyte.gz\n",
            "Downloading http://fashion-mnist.s3-website.eu-central-1.amazonaws.com/t10k-labels-idx1-ubyte.gz to ./data/FashionMNIST/raw/t10k-labels-idx1-ubyte.gz\n"
          ]
        },
        {
          "data": {
            "application/vnd.jupyter.widget-view+json": {
              "model_id": "e2a1b4def4e3476c9d0e66abc0ba4d81",
              "version_major": 2,
              "version_minor": 0
            },
            "text/plain": [
              "  0%|          | 0/5148 [00:00<?, ?it/s]"
            ]
          },
          "metadata": {},
          "output_type": "display_data"
        },
        {
          "name": "stdout",
          "output_type": "stream",
          "text": [
            "Extracting ./data/FashionMNIST/raw/t10k-labels-idx1-ubyte.gz to ./data/FashionMNIST/raw\n",
            "\n"
          ]
        }
      ],
      "source": [
        "# Загрузим FashionMNIST\n",
        "# Обучающая выборка\n",
        "trainDataset = dsets.FashionMNIST(root='./data',              # создаю папку для хранения данных\n",
        "                            train=True,                       # обучающая выборка\n",
        "                            transform=transforms.ToTensor(),  # сразу переводим в тензор\n",
        "                            download=True)                    # разрешаем загрузку\n",
        "# Тестовая выборка\n",
        "testDataset = dsets.FashionMNIST(root='./data', \n",
        "                           train=False,                       # проверочная выборка\n",
        "                           transform=transforms.ToTensor())   # \n",
        "\n",
        "# Dataset Loader (подготовка данных для сети)\n",
        "trainLoader = torch.utils.data.DataLoader(dataset=trainDataset,  # Какой датасет\n",
        "                                           batch_size=batchSize, # На сколько batch разделен\n",
        "                                           shuffle=True)         # перемешиваю данные\n",
        "\n",
        "testLoader = torch.utils.data.DataLoader(dataset=testDataset,   #  Какой датасет\n",
        "                                          batch_size=batchSize, # На сколько batch разделен\n",
        "                                          shuffle=False)\n"
      ]
    },
    {
      "cell_type": "code",
      "execution_count": 8,
      "metadata": {
        "colab": {
          "base_uri": "https://localhost:8080/"
        },
        "id": "pRUkyE4PM0Dd",
        "outputId": "edcfa61e-7d9e-4587-bc0d-0dde8d3e8082"
      },
      "outputs": [
        {
          "name": "stdout",
          "output_type": "stream",
          "text": [
            "Смотрим размер тренировчной выборки\n",
            "torch.Size([60000, 28, 28])\n",
            "тестовой выборки\n",
            "torch.Size([10000, 28, 28])\n",
            "\n"
          ]
        }
      ],
      "source": [
        "print('Смотрим размер тренировчной выборки\\n{}\\nтестовой выборки\\n{}\\n'.format(\n",
        "    trainDataset.train_data.shape,testDataset.test_data.shape))"
      ]
    },
    {
      "cell_type": "code",
      "execution_count": 41,
      "metadata": {
        "id": "hFTMCZfL8T3B"
      },
      "outputs": [],
      "source": [
        "# Посмотрим на нашу выборку\n",
        "dataIter = iter(trainLoader)      # По какой выборке пройдемся\n",
        "trainX, trainY = next(dataIter)  # Присваиваем текущий batch"
      ]
    },
    {
      "cell_type": "code",
      "execution_count": 42,
      "metadata": {
        "colab": {
          "base_uri": "https://localhost:8080/"
        },
        "id": "woWTJfKwPMFU",
        "outputId": "92b9e43f-dc60-47d3-b9fb-e5518b910001"
      },
      "outputs": [
        {
          "name": "stdout",
          "output_type": "stream",
          "text": [
            "тренировочная: torch.Size([100, 1, 28, 28])\n",
            "  проверочная: torch.Size([100])\n"
          ]
        }
      ],
      "source": [
        "print(f'тренировочная: {trainX.shape}\\n  проверочная: {trainY.shape}')"
      ]
    },
    {
      "cell_type": "code",
      "execution_count": 43,
      "metadata": {
        "colab": {
          "base_uri": "https://localhost:8080/",
          "height": 282
        },
        "id": "KZLeoVjn8T3V",
        "outputId": "9eb92e5f-c3c9-4dce-c309-d2336c86a15f"
      },
      "outputs": [
        {
          "data": {
            "text/plain": [
              "<matplotlib.image.AxesImage at 0x7f054a2c63d0>"
            ]
          },
          "execution_count": 43,
          "metadata": {},
          "output_type": "execute_result"
        },
        {
          "data": {
            "image/png": "[encoded data removed]",
            "text/plain": [
              "<Figure size 432x288 with 1 Axes>"
            ]
          },
          "metadata": {
            "needs_background": "light"
          },
          "output_type": "display_data"
        }
      ],
      "source": [
        "plt.imshow(trainX[9, 0])"
      ]
    },
    {
      "cell_type": "markdown",
      "metadata": {
        "id": "CBFoY69Z8T3d"
      },
      "source": [
        "# Архитектура модели\n",
        "\n"
      ]
    },
    {
      "cell_type": "code",
      "execution_count": 44,
      "metadata": {
        "id": "gVSCXosz8T3o"
      },
      "outputs": [],
      "source": [
        "# Создаю класс VAE (вариационный автокодировщик)\n",
        "class VAE(nn.Module):\n",
        "    def __init__(self):                             # метод создания модели\n",
        "        super(VAE, self).__init__()                 # наследую свойства родительского класса\n",
        "        self.fc1 = nn.Linear(inputSize, hidden)     # линейный слой как Dense в Keras (входной размер, выходной размер)\n",
        "        self.fc21 = nn.Linear(hidden, latent_dim)   # (входной размер, скрытое пространство)\n",
        "        self.fc22 = nn.Linear(hidden, latent_dim)\n",
        "        self.fc3 = nn.Linear(latent_dim, hidden)\n",
        "        self.fc4 = nn.Linear(hidden, inputSize)\n",
        "\n",
        "    def encode(self, x):\n",
        "        h1 = F.relu(self.fc1(x))\n",
        "        return self.fc21(h1), self.fc22(h1)\n",
        "\n",
        "    def reparameterize(self, mu, logvar):\n",
        "        std = torch.exp(0.5*logvar)  # средн.квадратичное отклонение\n",
        "        eps = torch.randn_like(std)  # норм распределение\n",
        "        return mu + eps*std\n",
        "\n",
        "    def decode(self, z):\n",
        "        h3 = F.relu(self.fc3(z))\n",
        "        return torch.sigmoid(self.fc4(h3))\n",
        "\n",
        "    def forward(self, x):\n",
        "        mu, logvar = self.encode(x.view(-1, 784))\n",
        "        z = self.reparameterize(mu, logvar)\n",
        "        return self.decode(z), mu, logvar\n",
        "\n",
        "\n",
        "model = VAE().to(device)\n",
        "optimizer = optim.Adam(model.parameters(), lr=learningRate)  # оптимизатор"
      ]
    },
    {
      "cell_type": "code",
      "execution_count": 45,
      "metadata": {
        "colab": {
          "base_uri": "https://localhost:8080/"
        },
        "id": "WBLm1RXd8T3t",
        "outputId": "700c8f2c-8835-4e06-fb3c-5699b6a422d7"
      },
      "outputs": [
        {
          "name": "stdout",
          "output_type": "stream",
          "text": [
            "view: torch.Size([100, 784])\n",
            "и снова: torch.Size([100, 1, 28, 28])\n"
          ]
        }
      ],
      "source": [
        "# view отличается от reshape, тем что меняет размер массива только для данной итерации\n",
        "print (\n",
        "    f'view: {trainX.view(-1, 28*28).shape}\\nи снова: {trainX.size()}'\n",
        ")"
      ]
    },
    {
      "cell_type": "markdown",
      "metadata": {
        "id": "zjhHlFLC8T5f"
      },
      "source": [
        "# Функция ошибки \n",
        "\n",
        "\n",
        "\n"
      ]
    },
    {
      "cell_type": "code",
      "execution_count": 29,
      "metadata": {
        "id": "yVe4vE4N9QGH"
      },
      "outputs": [],
      "source": [
        "def loss_function(recon_x, x, mu, logvar):\n",
        "    BCE = F.binary_cross_entropy(recon_x, x.view(-1, 784), reduction='sum')\n",
        "    # бинарная кросс энтропия для сравнения картинок\n",
        "    KLD = -0.5 * torch.sum(1 + logvar - mu.pow(2) - logvar.exp())\n",
        "    # расстояние Кульбака-Лейблера\n",
        "    return BCE + KLD    # складываем для уменьшения ошибки"
      ]
    },
    {
      "cell_type": "markdown",
      "metadata": {
        "id": "p3l7UxjXJvzq"
      },
      "source": [
        "# Обучение и проверка работы модели\n",
        "\n"
      ]
    },
    {
      "cell_type": "code",
      "execution_count": 46,
      "metadata": {
        "id": "-o5gERcFC2hb"
      },
      "outputs": [],
      "source": [
        "def train(epoch):\n",
        "    model.train()       # Переводим модель в режим обучения\n",
        "    train_loss = 0\n",
        "    losses = []         # Список будем использовать для построения графика\n",
        "    for batch_idx, (data, _) in enumerate(trainLoader):\n",
        "        data = data.to(device)                      # загружаем данные на видеокарту\n",
        "        data = data.view(-1, 28*28)                 # Преобразуем картинки 1,28,28 в вектор 784 \n",
        "        optimizer.zero_grad()                       # обнуляем градиент\n",
        "        recon_batch, mu, logvar = model(data)       # делаем предсказание\n",
        "        loss = loss_function(recon_batch, data, mu, logvar)\n",
        "        loss.backward() \n",
        "        train_loss += loss.item()\n",
        "        optimizer.step()                            # следующий шаг оптимизации\n",
        "        if batch_idx % 100 == 0:\n",
        "            print('\"Эпоха обучения\": {} [{}/{} ({:.0f}%)]\\tLoss: {:.6f}'.format(\n",
        "                epoch, batch_idx * len(data), len(trainLoader.dataset),\n",
        "                100. * batch_idx / len(trainLoader),\n",
        "                loss.item() / len(data)))\n",
        "        losses.append(train_loss/len(trainLoader.dataset))\n",
        "    \n",
        "    print('====> \"Эпоха\": {} Средний loss: {:.4f}'.format(\n",
        "          epoch, train_loss / len(trainLoader.dataset)))    "
      ]
    },
    {
      "cell_type": "code",
      "execution_count": 47,
      "metadata": {
        "id": "Lt-FB122GZWM"
      },
      "outputs": [],
      "source": [
        "def test(epoch):                      # тест обученой модели\n",
        "    model.eval()                      # Перевожу модель в режим тестирования, веса замораживаются\n",
        "    test_loss = 0                     # обнуляю ошибку\n",
        "    with torch.no_grad():             # Временно отключаю расчет градиента\n",
        "        for i, (data, _) in enumerate(testLoader):\n",
        "            data = data.to(device)\n",
        "            recon_batch, mu, logvar = model(data)\n",
        "            test_loss += loss_function(recon_batch, data, mu, logvar).item()\n",
        "            if i == 0:\n",
        "                n = min(data.size(0), 8)\n",
        "                comparison = torch.cat([data[:n],                               # Объединяю исходные данные и данные предикта которые преобразую \n",
        "                              recon_batch.view(batchSize, 1, 28, 28)[:n]])      # в вектор 784 обратно в размер картинки 1х28х28 в переменную\n",
        "                save_image(comparison.cpu(),\n",
        "                         'data/reconstruction_' + str(epoch) + '.png', nrow=n)  # Сохраняю полученные результаты в файл\n",
        "\n",
        "    test_loss /= len(testLoader.dataset)\n",
        "    print('====> Тестовый loss: {:.4f}'.format(test_loss))"
      ]
    },
    {
      "cell_type": "markdown",
      "metadata": {
        "id": "EXRQK6F5f917"
      },
      "source": [
        "## Обучение модели"
      ]
    },
    {
      "cell_type": "code",
      "execution_count": 48,
      "metadata": {
        "colab": {
          "base_uri": "https://localhost:8080/"
        },
        "id": "5X3RYcuMQsjs",
        "outputId": "7965bd40-12da-4d9e-c2f4-d2f0b0d18225"
      },
      "outputs": [
        {
          "name": "stdout",
          "output_type": "stream",
          "text": [
            "\"Эпоха обучения\": 1 [0/60000 (0%)]\tLoss: 548.975039\n",
            "\"Эпоха обучения\": 1 [10000/60000 (17%)]\tLoss: 305.437383\n",
            "\"Эпоха обучения\": 1 [20000/60000 (33%)]\tLoss: 286.361602\n",
            "\"Эпоха обучения\": 1 [30000/60000 (50%)]\tLoss: 278.149629\n",
            "\"Эпоха обучения\": 1 [40000/60000 (67%)]\tLoss: 268.965625\n",
            "\"Эпоха обучения\": 1 [50000/60000 (83%)]\tLoss: 265.128184\n",
            "====> \"Эпоха\": 1 Средний loss: 290.3675\n",
            "====> Тестовый loss: 270.2345\n",
            "\"Эпоха обучения\": 2 [0/60000 (0%)]\tLoss: 279.817363\n",
            "\"Эпоха обучения\": 2 [10000/60000 (17%)]\tLoss: 266.601895\n",
            "\"Эпоха обучения\": 2 [20000/60000 (33%)]\tLoss: 268.426641\n",
            "\"Эпоха обучения\": 2 [30000/60000 (50%)]\tLoss: 259.873203\n",
            "\"Эпоха обучения\": 2 [40000/60000 (67%)]\tLoss: 268.301914\n",
            "\"Эпоха обучения\": 2 [50000/60000 (83%)]\tLoss: 247.558867\n",
            "====> \"Эпоха\": 2 Средний loss: 262.2032\n",
            "====> Тестовый loss: 258.3686\n",
            "\"Эпоха обучения\": 3 [0/60000 (0%)]\tLoss: 250.181309\n",
            "\"Эпоха обучения\": 3 [10000/60000 (17%)]\tLoss: 248.417344\n",
            "\"Эпоха обучения\": 3 [20000/60000 (33%)]\tLoss: 280.508223\n",
            "\"Эпоха обучения\": 3 [30000/60000 (50%)]\tLoss: 253.178672\n",
            "\"Эпоха обучения\": 3 [40000/60000 (67%)]\tLoss: 251.265781\n",
            "\"Эпоха обучения\": 3 [50000/60000 (83%)]\tLoss: 257.533066\n",
            "====> \"Эпоха\": 3 Средний loss: 253.4760\n",
            "====> Тестовый loss: 252.3462\n",
            "\"Эпоха обучения\": 4 [0/60000 (0%)]\tLoss: 263.572090\n",
            "\"Эпоха обучения\": 4 [10000/60000 (17%)]\tLoss: 249.235527\n",
            "\"Эпоха обучения\": 4 [20000/60000 (33%)]\tLoss: 248.985547\n",
            "\"Эпоха обучения\": 4 [30000/60000 (50%)]\tLoss: 249.892539\n",
            "\"Эпоха обучения\": 4 [40000/60000 (67%)]\tLoss: 245.011934\n",
            "\"Эпоха обучения\": 4 [50000/60000 (83%)]\tLoss: 246.316250\n",
            "====> \"Эпоха\": 4 Средний loss: 249.1391\n",
            "====> Тестовый loss: 249.4321\n",
            "\"Эпоха обучения\": 5 [0/60000 (0%)]\tLoss: 243.607070\n",
            "\"Эпоха обучения\": 5 [10000/60000 (17%)]\tLoss: 257.869746\n",
            "\"Эпоха обучения\": 5 [20000/60000 (33%)]\tLoss: 245.287305\n",
            "\"Эпоха обучения\": 5 [30000/60000 (50%)]\tLoss: 233.552734\n",
            "\"Эпоха обучения\": 5 [40000/60000 (67%)]\tLoss: 245.142832\n",
            "\"Эпоха обучения\": 5 [50000/60000 (83%)]\tLoss: 243.864766\n",
            "====> \"Эпоха\": 5 Средний loss: 246.9147\n",
            "====> Тестовый loss: 247.4552\n",
            "\"Эпоха обучения\": 6 [0/60000 (0%)]\tLoss: 252.555898\n",
            "\"Эпоха обучения\": 6 [10000/60000 (17%)]\tLoss: 250.261445\n",
            "\"Эпоха обучения\": 6 [20000/60000 (33%)]\tLoss: 237.483672\n",
            "\"Эпоха обучения\": 6 [30000/60000 (50%)]\tLoss: 239.999668\n",
            "\"Эпоха обучения\": 6 [40000/60000 (67%)]\tLoss: 247.573574\n",
            "\"Эпоха обучения\": 6 [50000/60000 (83%)]\tLoss: 246.450977\n",
            "====> \"Эпоха\": 6 Средний loss: 245.3908\n",
            "====> Тестовый loss: 246.3311\n",
            "\"Эпоха обучения\": 7 [0/60000 (0%)]\tLoss: 250.570430\n",
            "\"Эпоха обучения\": 7 [10000/60000 (17%)]\tLoss: 249.897461\n",
            "\"Эпоха обучения\": 7 [20000/60000 (33%)]\tLoss: 243.542070\n",
            "\"Эпоха обучения\": 7 [30000/60000 (50%)]\tLoss: 238.594766\n",
            "\"Эпоха обучения\": 7 [40000/60000 (67%)]\tLoss: 233.914219\n",
            "\"Эпоха обучения\": 7 [50000/60000 (83%)]\tLoss: 265.695703\n",
            "====> \"Эпоха\": 7 Средний loss: 244.4428\n",
            "====> Тестовый loss: 245.8806\n",
            "\"Эпоха обучения\": 8 [0/60000 (0%)]\tLoss: 237.366738\n",
            "\"Эпоха обучения\": 8 [10000/60000 (17%)]\tLoss: 227.907637\n",
            "\"Эпоха обучения\": 8 [20000/60000 (33%)]\tLoss: 250.301016\n",
            "\"Эпоха обучения\": 8 [30000/60000 (50%)]\tLoss: 239.392051\n",
            "\"Эпоха обучения\": 8 [40000/60000 (67%)]\tLoss: 254.976348\n",
            "\"Эпоха обучения\": 8 [50000/60000 (83%)]\tLoss: 255.410020\n",
            "====> \"Эпоха\": 8 Средний loss: 243.6573\n",
            "====> Тестовый loss: 245.1753\n",
            "\"Эпоха обучения\": 9 [0/60000 (0%)]\tLoss: 243.465293\n",
            "\"Эпоха обучения\": 9 [10000/60000 (17%)]\tLoss: 248.460938\n",
            "\"Эпоха обучения\": 9 [20000/60000 (33%)]\tLoss: 253.578359\n",
            "\"Эпоха обучения\": 9 [30000/60000 (50%)]\tLoss: 247.428965\n",
            "\"Эпоха обучения\": 9 [40000/60000 (67%)]\tLoss: 237.533437\n",
            "\"Эпоха обучения\": 9 [50000/60000 (83%)]\tLoss: 225.810801\n",
            "====> \"Эпоха\": 9 Средний loss: 243.1212\n",
            "====> Тестовый loss: 244.4562\n",
            "\"Эпоха обучения\": 10 [0/60000 (0%)]\tLoss: 244.220840\n",
            "\"Эпоха обучения\": 10 [10000/60000 (17%)]\tLoss: 249.446387\n",
            "\"Эпоха обучения\": 10 [20000/60000 (33%)]\tLoss: 239.025781\n",
            "\"Эпоха обучения\": 10 [30000/60000 (50%)]\tLoss: 227.301230\n",
            "\"Эпоха обучения\": 10 [40000/60000 (67%)]\tLoss: 232.752051\n",
            "\"Эпоха обучения\": 10 [50000/60000 (83%)]\tLoss: 259.141738\n",
            "====> \"Эпоха\": 10 Средний loss: 242.6219\n",
            "====> Тестовый loss: 244.2347\n",
            "\"Эпоха обучения\": 11 [0/60000 (0%)]\tLoss: 236.513496\n",
            "\"Эпоха обучения\": 11 [10000/60000 (17%)]\tLoss: 242.177070\n",
            "\"Эпоха обучения\": 11 [20000/60000 (33%)]\tLoss: 234.883574\n",
            "\"Эпоха обучения\": 11 [30000/60000 (50%)]\tLoss: 238.615664\n",
            "\"Эпоха обучения\": 11 [40000/60000 (67%)]\tLoss: 249.234844\n",
            "\"Эпоха обучения\": 11 [50000/60000 (83%)]\tLoss: 242.941406\n",
            "====> \"Эпоха\": 11 Средний loss: 242.1899\n",
            "====> Тестовый loss: 244.0739\n",
            "\"Эпоха обучения\": 12 [0/60000 (0%)]\tLoss: 251.025879\n",
            "\"Эпоха обучения\": 12 [10000/60000 (17%)]\tLoss: 231.128984\n",
            "\"Эпоха обучения\": 12 [20000/60000 (33%)]\tLoss: 242.521641\n",
            "\"Эпоха обучения\": 12 [30000/60000 (50%)]\tLoss: 241.149609\n",
            "\"Эпоха обучения\": 12 [40000/60000 (67%)]\tLoss: 240.691738\n",
            "\"Эпоха обучения\": 12 [50000/60000 (83%)]\tLoss: 235.894180\n",
            "====> \"Эпоха\": 12 Средний loss: 241.8210\n",
            "====> Тестовый loss: 243.6187\n",
            "\"Эпоха обучения\": 13 [0/60000 (0%)]\tLoss: 232.128066\n",
            "\"Эпоха обучения\": 13 [10000/60000 (17%)]\tLoss: 248.396484\n",
            "\"Эпоха обучения\": 13 [20000/60000 (33%)]\tLoss: 234.009121\n",
            "\"Эпоха обучения\": 13 [30000/60000 (50%)]\tLoss: 240.627344\n",
            "\"Эпоха обучения\": 13 [40000/60000 (67%)]\tLoss: 236.179180\n",
            "\"Эпоха обучения\": 13 [50000/60000 (83%)]\tLoss: 245.982246\n",
            "====> \"Эпоха\": 13 Средний loss: 241.5749\n",
            "====> Тестовый loss: 243.0735\n",
            "\"Эпоха обучения\": 14 [0/60000 (0%)]\tLoss: 250.387188\n",
            "\"Эпоха обучения\": 14 [10000/60000 (17%)]\tLoss: 232.035547\n",
            "\"Эпоха обучения\": 14 [20000/60000 (33%)]\tLoss: 242.550078\n",
            "\"Эпоха обучения\": 14 [30000/60000 (50%)]\tLoss: 241.521875\n",
            "\"Эпоха обучения\": 14 [40000/60000 (67%)]\tLoss: 250.913242\n",
            "\"Эпоха обучения\": 14 [50000/60000 (83%)]\tLoss: 249.838359\n",
            "====> \"Эпоха\": 14 Средний loss: 241.3557\n",
            "====> Тестовый loss: 243.0064\n",
            "\"Эпоха обучения\": 15 [0/60000 (0%)]\tLoss: 236.621602\n",
            "\"Эпоха обучения\": 15 [10000/60000 (17%)]\tLoss: 235.438750\n",
            "\"Эпоха обучения\": 15 [20000/60000 (33%)]\tLoss: 245.206504\n",
            "\"Эпоха обучения\": 15 [30000/60000 (50%)]\tLoss: 248.557559\n",
            "\"Эпоха обучения\": 15 [40000/60000 (67%)]\tLoss: 244.182207\n",
            "\"Эпоха обучения\": 15 [50000/60000 (83%)]\tLoss: 241.102441\n",
            "====> \"Эпоха\": 15 Средний loss: 241.1016\n",
            "====> Тестовый loss: 242.7868\n"
          ]
        }
      ],
      "source": [
        "for epoch in range(1, numEpochs + 1):\n",
        "        train(epoch)\n",
        "        test(epoch)\n",
        "        with torch.no_grad(): \n",
        "            sample = torch.randn(64, latent_dim).to(device) # Генерирую случайный шум размером latent_dim количеством 64 картинок\n",
        "            sample = model.decode(sample).cpu()             # Прогоняю шум через декодер\n",
        "            save_image(sample.view(64, 1, 28, 28),\n",
        "                       'data/sample_' + str(epoch) + '.png') # Сохраняю полученные результаты в файл"
      ]
    },
    {
      "cell_type": "code",
      "execution_count": 49,
      "metadata": {
        "colab": {
          "base_uri": "https://localhost:8080/",
          "height": 594
        },
        "id": "4_dV-N7IS0sh",
        "outputId": "8b44cbf3-2fcf-4fef-ac56-479ea325a775"
      },
      "outputs": [
        {
          "data": {
            "image/png": "[encoded data removed]",
            "text/plain": [
              "<Figure size 720x720 with 1 Axes>"
            ]
          },
          "metadata": {
            "needs_background": "light"
          },
          "output_type": "display_data"
        }
      ],
      "source": [
        "# Примеры из декодера полученные из сгенеренного случайного шума\n",
        "img = Image.open(\"/content/data/sample_9.png\") \n",
        "plt.figure(figsize=(10,10))\n",
        "plt.imshow(img.convert('RGBA'))\n",
        "plt.show()"
      ]
    },
    {
      "cell_type": "code",
      "execution_count": 50,
      "metadata": {
        "colab": {
          "base_uri": "https://localhost:8080/",
          "height": 265
        },
        "id": "zT2K4uDhS6lp",
        "outputId": "197d2a01-77cf-4a3a-c8e3-95e0f5d970e4"
      },
      "outputs": [
        {
          "data": {
            "image/png": "[encoded data removed]",
            "text/plain": [
              "<Figure size 1080x360 with 1 Axes>"
            ]
          },
          "metadata": {
            "needs_background": "light"
          },
          "output_type": "display_data"
        }
      ],
      "source": [
        "# Примеры из декодера полученные из сгенеренного случайного шума\n",
        "img = Image.open(\"/content/data/reconstruction_9.png\")\n",
        "plt.figure(figsize=(15,5))\n",
        "plt.imshow(img.convert('RGBA'))\n",
        "plt.show()"
      ]
    }
  ],
  "metadata": {
    "accelerator": "GPU",
    "colab": {
      "collapsed_sections": [
        "ecdY-Slj8Oec"
      ],
      "provenance": []
    },
    "kernelspec": {
      "display_name": "Python 3.11.1 64-bit (microsoft store)",
      "language": "python",
      "name": "python3"
    },
    "language_info": {
      "name": "python",
      "version": "3.11.1"
    },
    "vscode": {
      "interpreter": {
        "hash": "f5d60dadaadefcdc8ea71f1b2a7d61f81b140c3ffed39f6be6e95efa72c685b2"
      }
    },
    "widgets": {
      "application/vnd.jupyter.widget-state+json": {
        "02a868a33c264f1bad76541e17838386": {
          "model_module": "@jupyter-widgets/controls",
          "model_module_version": "1.5.0",
          "model_name": "ProgressStyleModel",
          "state": {
            "_model_module": "@jupyter-widgets/controls",
            "_model_module_version": "1.5.0",
            "_model_name": "ProgressStyleModel",
            "_view_count": null,
            "_view_module": "@jupyter-widgets/base",
            "_view_module_version": "1.2.0",
            "_view_name": "StyleView",
            "bar_color": null,
            "description_width": ""
          }
        },
        "02f7684b3c8e4fdbbea310af3ef7a5ab": {
          "model_module": "@jupyter-widgets/controls",
          "model_module_version": "1.5.0",
          "model_name": "DescriptionStyleModel",
          "state": {
            "_model_module": "@jupyter-widgets/controls",
            "_model_module_version": "1.5.0",
            "_model_name": "DescriptionStyleModel",
            "_view_count": null,
            "_view_module": "@jupyter-widgets/base",
            "_view_module_version": "1.2.0",
            "_view_name": "StyleView",
            "description_width": ""
          }
        },
        "093d739f51394495933f0bb63789d9ce": {
          "model_module": "@jupyter-widgets/controls",
          "model_module_version": "1.5.0",
          "model_name": "HTMLModel",
          "state": {
            "_dom_classes": [],
            "_model_module": "@jupyter-widgets/controls",
            "_model_module_version": "1.5.0",
            "_model_name": "HTMLModel",
            "_view_count": null,
            "_view_module": "@jupyter-widgets/controls",
            "_view_module_version": "1.5.0",
            "_view_name": "HTMLView",
            "description": "",
            "description_tooltip": null,
            "layout": "IPY_MODEL_e503d6d768bb46148b46959b8757633a",
            "placeholder": "​",
            "style": "IPY_MODEL_aef624635c48479da93723569c637bce",
            "value": " 26421880/26421880 [00:03&lt;00:00, 13428635.58it/s]"
          }
        },
        "0f892b50e9cb4161b293857bfd12850b": {
          "model_module": "@jupyter-widgets/base",
          "model_module_version": "1.2.0",
          "model_name": "LayoutModel",
          "state": {
            "_model_module": "@jupyter-widgets/base",
            "_model_module_version": "1.2.0",
            "_model_name": "LayoutModel",
            "_view_count": null,
            "_view_module": "@jupyter-widgets/base",
            "_view_module_version": "1.2.0",
            "_view_name": "LayoutView",
            "align_content": null,
            "align_items": null,
            "align_self": null,
            "border": null,
            "bottom": null,
            "display": null,
            "flex": null,
            "flex_flow": null,
            "grid_area": null,
            "grid_auto_columns": null,
            "grid_auto_flow": null,
            "grid_auto_rows": null,
            "grid_column": null,
            "grid_gap": null,
            "grid_row": null,
            "grid_template_areas": null,
            "grid_template_columns": null,
            "grid_template_rows": null,
            "height": null,
            "justify_content": null,
            "justify_items": null,
            "left": null,
            "margin": null,
            "max_height": null,
            "max_width": null,
            "min_height": null,
            "min_width": null,
            "object_fit": null,
            "object_position": null,
            "order": null,
            "overflow": null,
            "overflow_x": null,
            "overflow_y": null,
            "padding": null,
            "right": null,
            "top": null,
            "visibility": null,
            "width": null
          }
        },
        "132242b667f14b349bfacfcd98c3dc64": {
          "model_module": "@jupyter-widgets/controls",
          "model_module_version": "1.5.0",
          "model_name": "HBoxModel",
          "state": {
            "_dom_classes": [],
            "_model_module": "@jupyter-widgets/controls",
            "_model_module_version": "1.5.0",
            "_model_name": "HBoxModel",
            "_view_count": null,
            "_view_module": "@jupyter-widgets/controls",
            "_view_module_version": "1.5.0",
            "_view_name": "HBoxView",
            "box_style": "",
            "children": [
              "IPY_MODEL_c345e307c59a471f8b8ca587a0cae75b",
              "IPY_MODEL_43b601b3b2dc4e028d1da33941a9ae16",
              "IPY_MODEL_d2395d6e796941dea3d27f41fa50a04c"
            ],
            "layout": "IPY_MODEL_675ee75e9cb5448fb97895087b53c5eb"
          }
        },
        "1a7c1c0c9cc3488486de06796d4db964": {
          "model_module": "@jupyter-widgets/controls",
          "model_module_version": "1.5.0",
          "model_name": "HTMLModel",
          "state": {
            "_dom_classes": [],
            "_model_module": "@jupyter-widgets/controls",
            "_model_module_version": "1.5.0",
            "_model_name": "HTMLModel",
            "_view_count": null,
            "_view_module": "@jupyter-widgets/controls",
            "_view_module_version": "1.5.0",
            "_view_name": "HTMLView",
            "description": "",
            "description_tooltip": null,
            "layout": "IPY_MODEL_25c855dd926143aa8f09db4cc37148d5",
            "placeholder": "​",
            "style": "IPY_MODEL_6938d39491bc4ea7a0abae53641c450b",
            "value": " 4422102/4422102 [00:01&lt;00:00, 4666466.71it/s]"
          }
        },
        "1fd0d7e7514245bfb2d821629874cf67": {
          "model_module": "@jupyter-widgets/controls",
          "model_module_version": "1.5.0",
          "model_name": "DescriptionStyleModel",
          "state": {
            "_model_module": "@jupyter-widgets/controls",
            "_model_module_version": "1.5.0",
            "_model_name": "DescriptionStyleModel",
            "_view_count": null,
            "_view_module": "@jupyter-widgets/base",
            "_view_module_version": "1.2.0",
            "_view_name": "StyleView",
            "description_width": ""
          }
        },
        "25c855dd926143aa8f09db4cc37148d5": {
          "model_module": "@jupyter-widgets/base",
          "model_module_version": "1.2.0",
          "model_name": "LayoutModel",
          "state": {
            "_model_module": "@jupyter-widgets/base",
            "_model_module_version": "1.2.0",
            "_model_name": "LayoutModel",
            "_view_count": null,
            "_view_module": "@jupyter-widgets/base",
            "_view_module_version": "1.2.0",
            "_view_name": "LayoutView",
            "align_content": null,
            "align_items": null,
            "align_self": null,
            "border": null,
            "bottom": null,
            "display": null,
            "flex": null,
            "flex_flow": null,
            "grid_area": null,
            "grid_auto_columns": null,
            "grid_auto_flow": null,
            "grid_auto_rows": null,
            "grid_column": null,
            "grid_gap": null,
            "grid_row": null,
            "grid_template_areas": null,
            "grid_template_columns": null,
            "grid_template_rows": null,
            "height": null,
            "justify_content": null,
            "justify_items": null,
            "left": null,
            "margin": null,
            "max_height": null,
            "max_width": null,
            "min_height": null,
            "min_width": null,
            "object_fit": null,
            "object_position": null,
            "order": null,
            "overflow": null,
            "overflow_x": null,
            "overflow_y": null,
            "padding": null,
            "right": null,
            "top": null,
            "visibility": null,
            "width": null
          }
        },
        "39fafe6a98704f4d9ff7275eb7d19ba1": {
          "model_module": "@jupyter-widgets/controls",
          "model_module_version": "1.5.0",
          "model_name": "HTMLModel",
          "state": {
            "_dom_classes": [],
            "_model_module": "@jupyter-widgets/controls",
            "_model_module_version": "1.5.0",
            "_model_name": "HTMLModel",
            "_view_count": null,
            "_view_module": "@jupyter-widgets/controls",
            "_view_module_version": "1.5.0",
            "_view_name": "HTMLView",
            "description": "",
            "description_tooltip": null,
            "layout": "IPY_MODEL_e10e77ee87b54b73b934e5e25a6ce317",
            "placeholder": "​",
            "style": "IPY_MODEL_e993bd7504274ffda3a29af92d003a93",
            "value": "100%"
          }
        },
        "3d2cda70b14a4a3dbb87023a3a2f05b4": {
          "model_module": "@jupyter-widgets/controls",
          "model_module_version": "1.5.0",
          "model_name": "HBoxModel",
          "state": {
            "_dom_classes": [],
            "_model_module": "@jupyter-widgets/controls",
            "_model_module_version": "1.5.0",
            "_model_name": "HBoxModel",
            "_view_count": null,
            "_view_module": "@jupyter-widgets/controls",
            "_view_module_version": "1.5.0",
            "_view_name": "HBoxView",
            "box_style": "",
            "children": [
              "IPY_MODEL_bc232996261e4397bf2781b8011d62a4",
              "IPY_MODEL_8b7d24f3b689476c900975cc847cc601",
              "IPY_MODEL_093d739f51394495933f0bb63789d9ce"
            ],
            "layout": "IPY_MODEL_b9784d8cbceb4fc9a16e4fd93a0dc1af"
          }
        },
        "3f7c12d3eee24fa387e491b7d4a2e185": {
          "model_module": "@jupyter-widgets/base",
          "model_module_version": "1.2.0",
          "model_name": "LayoutModel",
          "state": {
            "_model_module": "@jupyter-widgets/base",
            "_model_module_version": "1.2.0",
            "_model_name": "LayoutModel",
            "_view_count": null,
            "_view_module": "@jupyter-widgets/base",
            "_view_module_version": "1.2.0",
            "_view_name": "LayoutView",
            "align_content": null,
            "align_items": null,
            "align_self": null,
            "border": null,
            "bottom": null,
            "display": null,
            "flex": null,
            "flex_flow": null,
            "grid_area": null,
            "grid_auto_columns": null,
            "grid_auto_flow": null,
            "grid_auto_rows": null,
            "grid_column": null,
            "grid_gap": null,
            "grid_row": null,
            "grid_template_areas": null,
            "grid_template_columns": null,
            "grid_template_rows": null,
            "height": null,
            "justify_content": null,
            "justify_items": null,
            "left": null,
            "margin": null,
            "max_height": null,
            "max_width": null,
            "min_height": null,
            "min_width": null,
            "object_fit": null,
            "object_position": null,
            "order": null,
            "overflow": null,
            "overflow_x": null,
            "overflow_y": null,
            "padding": null,
            "right": null,
            "top": null,
            "visibility": null,
            "width": null
          }
        },
        "43b601b3b2dc4e028d1da33941a9ae16": {
          "model_module": "@jupyter-widgets/controls",
          "model_module_version": "1.5.0",
          "model_name": "FloatProgressModel",
          "state": {
            "_dom_classes": [],
            "_model_module": "@jupyter-widgets/controls",
            "_model_module_version": "1.5.0",
            "_model_name": "FloatProgressModel",
            "_view_count": null,
            "_view_module": "@jupyter-widgets/controls",
            "_view_module_version": "1.5.0",
            "_view_name": "ProgressView",
            "bar_style": "success",
            "description": "",
            "description_tooltip": null,
            "layout": "IPY_MODEL_e7be669255fd47388c45569ec791bf8c",
            "max": 29515,
            "min": 0,
            "orientation": "horizontal",
            "style": "IPY_MODEL_d1d542b2e05844e29711177b33e3590c",
            "value": 29515
          }
        },
        "45456500fbe841cb9f6d5188218b5736": {
          "model_module": "@jupyter-widgets/base",
          "model_module_version": "1.2.0",
          "model_name": "LayoutModel",
          "state": {
            "_model_module": "@jupyter-widgets/base",
            "_model_module_version": "1.2.0",
            "_model_name": "LayoutModel",
            "_view_count": null,
            "_view_module": "@jupyter-widgets/base",
            "_view_module_version": "1.2.0",
            "_view_name": "LayoutView",
            "align_content": null,
            "align_items": null,
            "align_self": null,
            "border": null,
            "bottom": null,
            "display": null,
            "flex": null,
            "flex_flow": null,
            "grid_area": null,
            "grid_auto_columns": null,
            "grid_auto_flow": null,
            "grid_auto_rows": null,
            "grid_column": null,
            "grid_gap": null,
            "grid_row": null,
            "grid_template_areas": null,
            "grid_template_columns": null,
            "grid_template_rows": null,
            "height": null,
            "justify_content": null,
            "justify_items": null,
            "left": null,
            "margin": null,
            "max_height": null,
            "max_width": null,
            "min_height": null,
            "min_width": null,
            "object_fit": null,
            "object_position": null,
            "order": null,
            "overflow": null,
            "overflow_x": null,
            "overflow_y": null,
            "padding": null,
            "right": null,
            "top": null,
            "visibility": null,
            "width": null
          }
        },
        "548eb87eaaa8473a87541a313456b211": {
          "model_module": "@jupyter-widgets/base",
          "model_module_version": "1.2.0",
          "model_name": "LayoutModel",
          "state": {
            "_model_module": "@jupyter-widgets/base",
            "_model_module_version": "1.2.0",
            "_model_name": "LayoutModel",
            "_view_count": null,
            "_view_module": "@jupyter-widgets/base",
            "_view_module_version": "1.2.0",
            "_view_name": "LayoutView",
            "align_content": null,
            "align_items": null,
            "align_self": null,
            "border": null,
            "bottom": null,
            "display": null,
            "flex": null,
            "flex_flow": null,
            "grid_area": null,
            "grid_auto_columns": null,
            "grid_auto_flow": null,
            "grid_auto_rows": null,
            "grid_column": null,
            "grid_gap": null,
            "grid_row": null,
            "grid_template_areas": null,
            "grid_template_columns": null,
            "grid_template_rows": null,
            "height": null,
            "justify_content": null,
            "justify_items": null,
            "left": null,
            "margin": null,
            "max_height": null,
            "max_width": null,
            "min_height": null,
            "min_width": null,
            "object_fit": null,
            "object_position": null,
            "order": null,
            "overflow": null,
            "overflow_x": null,
            "overflow_y": null,
            "padding": null,
            "right": null,
            "top": null,
            "visibility": null,
            "width": null
          }
        },
        "675ee75e9cb5448fb97895087b53c5eb": {
          "model_module": "@jupyter-widgets/base",
          "model_module_version": "1.2.0",
          "model_name": "LayoutModel",
          "state": {
            "_model_module": "@jupyter-widgets/base",
            "_model_module_version": "1.2.0",
            "_model_name": "LayoutModel",
            "_view_count": null,
            "_view_module": "@jupyter-widgets/base",
            "_view_module_version": "1.2.0",
            "_view_name": "LayoutView",
            "align_content": null,
            "align_items": null,
            "align_self": null,
            "border": null,
            "bottom": null,
            "display": null,
            "flex": null,
            "flex_flow": null,
            "grid_area": null,
            "grid_auto_columns": null,
            "grid_auto_flow": null,
            "grid_auto_rows": null,
            "grid_column": null,
            "grid_gap": null,
            "grid_row": null,
            "grid_template_areas": null,
            "grid_template_columns": null,
            "grid_template_rows": null,
            "height": null,
            "justify_content": null,
            "justify_items": null,
            "left": null,
            "margin": null,
            "max_height": null,
            "max_width": null,
            "min_height": null,
            "min_width": null,
            "object_fit": null,
            "object_position": null,
            "order": null,
            "overflow": null,
            "overflow_x": null,
            "overflow_y": null,
            "padding": null,
            "right": null,
            "top": null,
            "visibility": null,
            "width": null
          }
        },
        "6938d39491bc4ea7a0abae53641c450b": {
          "model_module": "@jupyter-widgets/controls",
          "model_module_version": "1.5.0",
          "model_name": "DescriptionStyleModel",
          "state": {
            "_model_module": "@jupyter-widgets/controls",
            "_model_module_version": "1.5.0",
            "_model_name": "DescriptionStyleModel",
            "_view_count": null,
            "_view_module": "@jupyter-widgets/base",
            "_view_module_version": "1.2.0",
            "_view_name": "StyleView",
            "description_width": ""
          }
        },
        "6f467668736244a8ae5b30e7bb5c5b02": {
          "model_module": "@jupyter-widgets/controls",
          "model_module_version": "1.5.0",
          "model_name": "DescriptionStyleModel",
          "state": {
            "_model_module": "@jupyter-widgets/controls",
            "_model_module_version": "1.5.0",
            "_model_name": "DescriptionStyleModel",
            "_view_count": null,
            "_view_module": "@jupyter-widgets/base",
            "_view_module_version": "1.2.0",
            "_view_name": "StyleView",
            "description_width": ""
          }
        },
        "6fe5f103ebef4816b5d724e99dd34c7b": {
          "model_module": "@jupyter-widgets/base",
          "model_module_version": "1.2.0",
          "model_name": "LayoutModel",
          "state": {
            "_model_module": "@jupyter-widgets/base",
            "_model_module_version": "1.2.0",
            "_model_name": "LayoutModel",
            "_view_count": null,
            "_view_module": "@jupyter-widgets/base",
            "_view_module_version": "1.2.0",
            "_view_name": "LayoutView",
            "align_content": null,
            "align_items": null,
            "align_self": null,
            "border": null,
            "bottom": null,
            "display": null,
            "flex": null,
            "flex_flow": null,
            "grid_area": null,
            "grid_auto_columns": null,
            "grid_auto_flow": null,
            "grid_auto_rows": null,
            "grid_column": null,
            "grid_gap": null,
            "grid_row": null,
            "grid_template_areas": null,
            "grid_template_columns": null,
            "grid_template_rows": null,
            "height": null,
            "justify_content": null,
            "justify_items": null,
            "left": null,
            "margin": null,
            "max_height": null,
            "max_width": null,
            "min_height": null,
            "min_width": null,
            "object_fit": null,
            "object_position": null,
            "order": null,
            "overflow": null,
            "overflow_x": null,
            "overflow_y": null,
            "padding": null,
            "right": null,
            "top": null,
            "visibility": null,
            "width": null
          }
        },
        "7bc2ac2f0bc044eb9c8db2256037c728": {
          "model_module": "@jupyter-widgets/base",
          "model_module_version": "1.2.0",
          "model_name": "LayoutModel",
          "state": {
            "_model_module": "@jupyter-widgets/base",
            "_model_module_version": "1.2.0",
            "_model_name": "LayoutModel",
            "_view_count": null,
            "_view_module": "@jupyter-widgets/base",
            "_view_module_version": "1.2.0",
            "_view_name": "LayoutView",
            "align_content": null,
            "align_items": null,
            "align_self": null,
            "border": null,
            "bottom": null,
            "display": null,
            "flex": null,
            "flex_flow": null,
            "grid_area": null,
            "grid_auto_columns": null,
            "grid_auto_flow": null,
            "grid_auto_rows": null,
            "grid_column": null,
            "grid_gap": null,
            "grid_row": null,
            "grid_template_areas": null,
            "grid_template_columns": null,
            "grid_template_rows": null,
            "height": null,
            "justify_content": null,
            "justify_items": null,
            "left": null,
            "margin": null,
            "max_height": null,
            "max_width": null,
            "min_height": null,
            "min_width": null,
            "object_fit": null,
            "object_position": null,
            "order": null,
            "overflow": null,
            "overflow_x": null,
            "overflow_y": null,
            "padding": null,
            "right": null,
            "top": null,
            "visibility": null,
            "width": null
          }
        },
        "8131233e033e47b88bfba005e632587b": {
          "model_module": "@jupyter-widgets/controls",
          "model_module_version": "1.5.0",
          "model_name": "FloatProgressModel",
          "state": {
            "_dom_classes": [],
            "_model_module": "@jupyter-widgets/controls",
            "_model_module_version": "1.5.0",
            "_model_name": "FloatProgressModel",
            "_view_count": null,
            "_view_module": "@jupyter-widgets/controls",
            "_view_module_version": "1.5.0",
            "_view_name": "ProgressView",
            "bar_style": "success",
            "description": "",
            "description_tooltip": null,
            "layout": "IPY_MODEL_7bc2ac2f0bc044eb9c8db2256037c728",
            "max": 4422102,
            "min": 0,
            "orientation": "horizontal",
            "style": "IPY_MODEL_ccef703bcd05400a86327a3e5b53fc14",
            "value": 4422102
          }
        },
        "8673b054de434a17a6ef103f453ff02c": {
          "model_module": "@jupyter-widgets/controls",
          "model_module_version": "1.5.0",
          "model_name": "DescriptionStyleModel",
          "state": {
            "_model_module": "@jupyter-widgets/controls",
            "_model_module_version": "1.5.0",
            "_model_name": "DescriptionStyleModel",
            "_view_count": null,
            "_view_module": "@jupyter-widgets/base",
            "_view_module_version": "1.2.0",
            "_view_name": "StyleView",
            "description_width": ""
          }
        },
        "8b7d24f3b689476c900975cc847cc601": {
          "model_module": "@jupyter-widgets/controls",
          "model_module_version": "1.5.0",
          "model_name": "FloatProgressModel",
          "state": {
            "_dom_classes": [],
            "_model_module": "@jupyter-widgets/controls",
            "_model_module_version": "1.5.0",
            "_model_name": "FloatProgressModel",
            "_view_count": null,
            "_view_module": "@jupyter-widgets/controls",
            "_view_module_version": "1.5.0",
            "_view_name": "ProgressView",
            "bar_style": "success",
            "description": "",
            "description_tooltip": null,
            "layout": "IPY_MODEL_45456500fbe841cb9f6d5188218b5736",
            "max": 26421880,
            "min": 0,
            "orientation": "horizontal",
            "style": "IPY_MODEL_02a868a33c264f1bad76541e17838386",
            "value": 26421880
          }
        },
        "945eda398e0e460ea360d268879d0592": {
          "model_module": "@jupyter-widgets/controls",
          "model_module_version": "1.5.0",
          "model_name": "HTMLModel",
          "state": {
            "_dom_classes": [],
            "_model_module": "@jupyter-widgets/controls",
            "_model_module_version": "1.5.0",
            "_model_name": "HTMLModel",
            "_view_count": null,
            "_view_module": "@jupyter-widgets/controls",
            "_view_module_version": "1.5.0",
            "_view_name": "HTMLView",
            "description": "",
            "description_tooltip": null,
            "layout": "IPY_MODEL_0f892b50e9cb4161b293857bfd12850b",
            "placeholder": "​",
            "style": "IPY_MODEL_8673b054de434a17a6ef103f453ff02c",
            "value": " 5148/5148 [00:00&lt;00:00, 214660.57it/s]"
          }
        },
        "96a6a5330f44448cbf61da7346704025": {
          "model_module": "@jupyter-widgets/base",
          "model_module_version": "1.2.0",
          "model_name": "LayoutModel",
          "state": {
            "_model_module": "@jupyter-widgets/base",
            "_model_module_version": "1.2.0",
            "_model_name": "LayoutModel",
            "_view_count": null,
            "_view_module": "@jupyter-widgets/base",
            "_view_module_version": "1.2.0",
            "_view_name": "LayoutView",
            "align_content": null,
            "align_items": null,
            "align_self": null,
            "border": null,
            "bottom": null,
            "display": null,
            "flex": null,
            "flex_flow": null,
            "grid_area": null,
            "grid_auto_columns": null,
            "grid_auto_flow": null,
            "grid_auto_rows": null,
            "grid_column": null,
            "grid_gap": null,
            "grid_row": null,
            "grid_template_areas": null,
            "grid_template_columns": null,
            "grid_template_rows": null,
            "height": null,
            "justify_content": null,
            "justify_items": null,
            "left": null,
            "margin": null,
            "max_height": null,
            "max_width": null,
            "min_height": null,
            "min_width": null,
            "object_fit": null,
            "object_position": null,
            "order": null,
            "overflow": null,
            "overflow_x": null,
            "overflow_y": null,
            "padding": null,
            "right": null,
            "top": null,
            "visibility": null,
            "width": null
          }
        },
        "aef624635c48479da93723569c637bce": {
          "model_module": "@jupyter-widgets/controls",
          "model_module_version": "1.5.0",
          "model_name": "DescriptionStyleModel",
          "state": {
            "_model_module": "@jupyter-widgets/controls",
            "_model_module_version": "1.5.0",
            "_model_name": "DescriptionStyleModel",
            "_view_count": null,
            "_view_module": "@jupyter-widgets/base",
            "_view_module_version": "1.2.0",
            "_view_name": "StyleView",
            "description_width": ""
          }
        },
        "b9784d8cbceb4fc9a16e4fd93a0dc1af": {
          "model_module": "@jupyter-widgets/base",
          "model_module_version": "1.2.0",
          "model_name": "LayoutModel",
          "state": {
            "_model_module": "@jupyter-widgets/base",
            "_model_module_version": "1.2.0",
            "_model_name": "LayoutModel",
            "_view_count": null,
            "_view_module": "@jupyter-widgets/base",
            "_view_module_version": "1.2.0",
            "_view_name": "LayoutView",
            "align_content": null,
            "align_items": null,
            "align_self": null,
            "border": null,
            "bottom": null,
            "display": null,
            "flex": null,
            "flex_flow": null,
            "grid_area": null,
            "grid_auto_columns": null,
            "grid_auto_flow": null,
            "grid_auto_rows": null,
            "grid_column": null,
            "grid_gap": null,
            "grid_row": null,
            "grid_template_areas": null,
            "grid_template_columns": null,
            "grid_template_rows": null,
            "height": null,
            "justify_content": null,
            "justify_items": null,
            "left": null,
            "margin": null,
            "max_height": null,
            "max_width": null,
            "min_height": null,
            "min_width": null,
            "object_fit": null,
            "object_position": null,
            "order": null,
            "overflow": null,
            "overflow_x": null,
            "overflow_y": null,
            "padding": null,
            "right": null,
            "top": null,
            "visibility": null,
            "width": null
          }
        },
        "bc232996261e4397bf2781b8011d62a4": {
          "model_module": "@jupyter-widgets/controls",
          "model_module_version": "1.5.0",
          "model_name": "HTMLModel",
          "state": {
            "_dom_classes": [],
            "_model_module": "@jupyter-widgets/controls",
            "_model_module_version": "1.5.0",
            "_model_name": "HTMLModel",
            "_view_count": null,
            "_view_module": "@jupyter-widgets/controls",
            "_view_module_version": "1.5.0",
            "_view_name": "HTMLView",
            "description": "",
            "description_tooltip": null,
            "layout": "IPY_MODEL_548eb87eaaa8473a87541a313456b211",
            "placeholder": "​",
            "style": "IPY_MODEL_02f7684b3c8e4fdbbea310af3ef7a5ab",
            "value": "100%"
          }
        },
        "c310106e6dc6495fadde163246b6fe55": {
          "model_module": "@jupyter-widgets/base",
          "model_module_version": "1.2.0",
          "model_name": "LayoutModel",
          "state": {
            "_model_module": "@jupyter-widgets/base",
            "_model_module_version": "1.2.0",
            "_model_name": "LayoutModel",
            "_view_count": null,
            "_view_module": "@jupyter-widgets/base",
            "_view_module_version": "1.2.0",
            "_view_name": "LayoutView",
            "align_content": null,
            "align_items": null,
            "align_self": null,
            "border": null,
            "bottom": null,
            "display": null,
            "flex": null,
            "flex_flow": null,
            "grid_area": null,
            "grid_auto_columns": null,
            "grid_auto_flow": null,
            "grid_auto_rows": null,
            "grid_column": null,
            "grid_gap": null,
            "grid_row": null,
            "grid_template_areas": null,
            "grid_template_columns": null,
            "grid_template_rows": null,
            "height": null,
            "justify_content": null,
            "justify_items": null,
            "left": null,
            "margin": null,
            "max_height": null,
            "max_width": null,
            "min_height": null,
            "min_width": null,
            "object_fit": null,
            "object_position": null,
            "order": null,
            "overflow": null,
            "overflow_x": null,
            "overflow_y": null,
            "padding": null,
            "right": null,
            "top": null,
            "visibility": null,
            "width": null
          }
        },
        "c345e307c59a471f8b8ca587a0cae75b": {
          "model_module": "@jupyter-widgets/controls",
          "model_module_version": "1.5.0",
          "model_name": "HTMLModel",
          "state": {
            "_dom_classes": [],
            "_model_module": "@jupyter-widgets/controls",
            "_model_module_version": "1.5.0",
            "_model_name": "HTMLModel",
            "_view_count": null,
            "_view_module": "@jupyter-widgets/controls",
            "_view_module_version": "1.5.0",
            "_view_name": "HTMLView",
            "description": "",
            "description_tooltip": null,
            "layout": "IPY_MODEL_d019233c03db41cb855b5477049815d1",
            "placeholder": "​",
            "style": "IPY_MODEL_edbf72cc35d34f5a9a3310811a98a6f0",
            "value": "100%"
          }
        },
        "ccef703bcd05400a86327a3e5b53fc14": {
          "model_module": "@jupyter-widgets/controls",
          "model_module_version": "1.5.0",
          "model_name": "ProgressStyleModel",
          "state": {
            "_model_module": "@jupyter-widgets/controls",
            "_model_module_version": "1.5.0",
            "_model_name": "ProgressStyleModel",
            "_view_count": null,
            "_view_module": "@jupyter-widgets/base",
            "_view_module_version": "1.2.0",
            "_view_name": "StyleView",
            "bar_color": null,
            "description_width": ""
          }
        },
        "d019233c03db41cb855b5477049815d1": {
          "model_module": "@jupyter-widgets/base",
          "model_module_version": "1.2.0",
          "model_name": "LayoutModel",
          "state": {
            "_model_module": "@jupyter-widgets/base",
            "_model_module_version": "1.2.0",
            "_model_name": "LayoutModel",
            "_view_count": null,
            "_view_module": "@jupyter-widgets/base",
            "_view_module_version": "1.2.0",
            "_view_name": "LayoutView",
            "align_content": null,
            "align_items": null,
            "align_self": null,
            "border": null,
            "bottom": null,
            "display": null,
            "flex": null,
            "flex_flow": null,
            "grid_area": null,
            "grid_auto_columns": null,
            "grid_auto_flow": null,
            "grid_auto_rows": null,
            "grid_column": null,
            "grid_gap": null,
            "grid_row": null,
            "grid_template_areas": null,
            "grid_template_columns": null,
            "grid_template_rows": null,
            "height": null,
            "justify_content": null,
            "justify_items": null,
            "left": null,
            "margin": null,
            "max_height": null,
            "max_width": null,
            "min_height": null,
            "min_width": null,
            "object_fit": null,
            "object_position": null,
            "order": null,
            "overflow": null,
            "overflow_x": null,
            "overflow_y": null,
            "padding": null,
            "right": null,
            "top": null,
            "visibility": null,
            "width": null
          }
        },
        "d1d542b2e05844e29711177b33e3590c": {
          "model_module": "@jupyter-widgets/controls",
          "model_module_version": "1.5.0",
          "model_name": "ProgressStyleModel",
          "state": {
            "_model_module": "@jupyter-widgets/controls",
            "_model_module_version": "1.5.0",
            "_model_name": "ProgressStyleModel",
            "_view_count": null,
            "_view_module": "@jupyter-widgets/base",
            "_view_module_version": "1.2.0",
            "_view_name": "StyleView",
            "bar_color": null,
            "description_width": ""
          }
        },
        "d2395d6e796941dea3d27f41fa50a04c": {
          "model_module": "@jupyter-widgets/controls",
          "model_module_version": "1.5.0",
          "model_name": "HTMLModel",
          "state": {
            "_dom_classes": [],
            "_model_module": "@jupyter-widgets/controls",
            "_model_module_version": "1.5.0",
            "_model_name": "HTMLModel",
            "_view_count": null,
            "_view_module": "@jupyter-widgets/controls",
            "_view_module_version": "1.5.0",
            "_view_name": "HTMLView",
            "description": "",
            "description_tooltip": null,
            "layout": "IPY_MODEL_c310106e6dc6495fadde163246b6fe55",
            "placeholder": "​",
            "style": "IPY_MODEL_1fd0d7e7514245bfb2d821629874cf67",
            "value": " 29515/29515 [00:00&lt;00:00, 142894.27it/s]"
          }
        },
        "d66e8cd54bb04d1ab283abdcce3d8d9f": {
          "model_module": "@jupyter-widgets/controls",
          "model_module_version": "1.5.0",
          "model_name": "ProgressStyleModel",
          "state": {
            "_model_module": "@jupyter-widgets/controls",
            "_model_module_version": "1.5.0",
            "_model_name": "ProgressStyleModel",
            "_view_count": null,
            "_view_module": "@jupyter-widgets/base",
            "_view_module_version": "1.2.0",
            "_view_name": "StyleView",
            "bar_color": null,
            "description_width": ""
          }
        },
        "dede77cd564f4c30bffb0da8b3f89f8e": {
          "model_module": "@jupyter-widgets/controls",
          "model_module_version": "1.5.0",
          "model_name": "FloatProgressModel",
          "state": {
            "_dom_classes": [],
            "_model_module": "@jupyter-widgets/controls",
            "_model_module_version": "1.5.0",
            "_model_name": "FloatProgressModel",
            "_view_count": null,
            "_view_module": "@jupyter-widgets/controls",
            "_view_module_version": "1.5.0",
            "_view_name": "ProgressView",
            "bar_style": "success",
            "description": "",
            "description_tooltip": null,
            "layout": "IPY_MODEL_3f7c12d3eee24fa387e491b7d4a2e185",
            "max": 5148,
            "min": 0,
            "orientation": "horizontal",
            "style": "IPY_MODEL_d66e8cd54bb04d1ab283abdcce3d8d9f",
            "value": 5148
          }
        },
        "df2041c1b1b4402096edc3bd9ae7fa9c": {
          "model_module": "@jupyter-widgets/controls",
          "model_module_version": "1.5.0",
          "model_name": "HBoxModel",
          "state": {
            "_dom_classes": [],
            "_model_module": "@jupyter-widgets/controls",
            "_model_module_version": "1.5.0",
            "_model_name": "HBoxModel",
            "_view_count": null,
            "_view_module": "@jupyter-widgets/controls",
            "_view_module_version": "1.5.0",
            "_view_name": "HBoxView",
            "box_style": "",
            "children": [
              "IPY_MODEL_39fafe6a98704f4d9ff7275eb7d19ba1",
              "IPY_MODEL_8131233e033e47b88bfba005e632587b",
              "IPY_MODEL_1a7c1c0c9cc3488486de06796d4db964"
            ],
            "layout": "IPY_MODEL_eae142d5cab2495f813f1e08f4876d19"
          }
        },
        "e10e77ee87b54b73b934e5e25a6ce317": {
          "model_module": "@jupyter-widgets/base",
          "model_module_version": "1.2.0",
          "model_name": "LayoutModel",
          "state": {
            "_model_module": "@jupyter-widgets/base",
            "_model_module_version": "1.2.0",
            "_model_name": "LayoutModel",
            "_view_count": null,
            "_view_module": "@jupyter-widgets/base",
            "_view_module_version": "1.2.0",
            "_view_name": "LayoutView",
            "align_content": null,
            "align_items": null,
            "align_self": null,
            "border": null,
            "bottom": null,
            "display": null,
            "flex": null,
            "flex_flow": null,
            "grid_area": null,
            "grid_auto_columns": null,
            "grid_auto_flow": null,
            "grid_auto_rows": null,
            "grid_column": null,
            "grid_gap": null,
            "grid_row": null,
            "grid_template_areas": null,
            "grid_template_columns": null,
            "grid_template_rows": null,
            "height": null,
            "justify_content": null,
            "justify_items": null,
            "left": null,
            "margin": null,
            "max_height": null,
            "max_width": null,
            "min_height": null,
            "min_width": null,
            "object_fit": null,
            "object_position": null,
            "order": null,
            "overflow": null,
            "overflow_x": null,
            "overflow_y": null,
            "padding": null,
            "right": null,
            "top": null,
            "visibility": null,
            "width": null
          }
        },
        "e2a1b4def4e3476c9d0e66abc0ba4d81": {
          "model_module": "@jupyter-widgets/controls",
          "model_module_version": "1.5.0",
          "model_name": "HBoxModel",
          "state": {
            "_dom_classes": [],
            "_model_module": "@jupyter-widgets/controls",
            "_model_module_version": "1.5.0",
            "_model_name": "HBoxModel",
            "_view_count": null,
            "_view_module": "@jupyter-widgets/controls",
            "_view_module_version": "1.5.0",
            "_view_name": "HBoxView",
            "box_style": "",
            "children": [
              "IPY_MODEL_e9bddebbad1746b9a87afcf687e5a501",
              "IPY_MODEL_dede77cd564f4c30bffb0da8b3f89f8e",
              "IPY_MODEL_945eda398e0e460ea360d268879d0592"
            ],
            "layout": "IPY_MODEL_6fe5f103ebef4816b5d724e99dd34c7b"
          }
        },
        "e503d6d768bb46148b46959b8757633a": {
          "model_module": "@jupyter-widgets/base",
          "model_module_version": "1.2.0",
          "model_name": "LayoutModel",
          "state": {
            "_model_module": "@jupyter-widgets/base",
            "_model_module_version": "1.2.0",
            "_model_name": "LayoutModel",
            "_view_count": null,
            "_view_module": "@jupyter-widgets/base",
            "_view_module_version": "1.2.0",
            "_view_name": "LayoutView",
            "align_content": null,
            "align_items": null,
            "align_self": null,
            "border": null,
            "bottom": null,
            "display": null,
            "flex": null,
            "flex_flow": null,
            "grid_area": null,
            "grid_auto_columns": null,
            "grid_auto_flow": null,
            "grid_auto_rows": null,
            "grid_column": null,
            "grid_gap": null,
            "grid_row": null,
            "grid_template_areas": null,
            "grid_template_columns": null,
            "grid_template_rows": null,
            "height": null,
            "justify_content": null,
            "justify_items": null,
            "left": null,
            "margin": null,
            "max_height": null,
            "max_width": null,
            "min_height": null,
            "min_width": null,
            "object_fit": null,
            "object_position": null,
            "order": null,
            "overflow": null,
            "overflow_x": null,
            "overflow_y": null,
            "padding": null,
            "right": null,
            "top": null,
            "visibility": null,
            "width": null
          }
        },
        "e7be669255fd47388c45569ec791bf8c": {
          "model_module": "@jupyter-widgets/base",
          "model_module_version": "1.2.0",
          "model_name": "LayoutModel",
          "state": {
            "_model_module": "@jupyter-widgets/base",
            "_model_module_version": "1.2.0",
            "_model_name": "LayoutModel",
            "_view_count": null,
            "_view_module": "@jupyter-widgets/base",
            "_view_module_version": "1.2.0",
            "_view_name": "LayoutView",
            "align_content": null,
            "align_items": null,
            "align_self": null,
            "border": null,
            "bottom": null,
            "display": null,
            "flex": null,
            "flex_flow": null,
            "grid_area": null,
            "grid_auto_columns": null,
            "grid_auto_flow": null,
            "grid_auto_rows": null,
            "grid_column": null,
            "grid_gap": null,
            "grid_row": null,
            "grid_template_areas": null,
            "grid_template_columns": null,
            "grid_template_rows": null,
            "height": null,
            "justify_content": null,
            "justify_items": null,
            "left": null,
            "margin": null,
            "max_height": null,
            "max_width": null,
            "min_height": null,
            "min_width": null,
            "object_fit": null,
            "object_position": null,
            "order": null,
            "overflow": null,
            "overflow_x": null,
            "overflow_y": null,
            "padding": null,
            "right": null,
            "top": null,
            "visibility": null,
            "width": null
          }
        },
        "e993bd7504274ffda3a29af92d003a93": {
          "model_module": "@jupyter-widgets/controls",
          "model_module_version": "1.5.0",
          "model_name": "DescriptionStyleModel",
          "state": {
            "_model_module": "@jupyter-widgets/controls",
            "_model_module_version": "1.5.0",
            "_model_name": "DescriptionStyleModel",
            "_view_count": null,
            "_view_module": "@jupyter-widgets/base",
            "_view_module_version": "1.2.0",
            "_view_name": "StyleView",
            "description_width": ""
          }
        },
        "e9bddebbad1746b9a87afcf687e5a501": {
          "model_module": "@jupyter-widgets/controls",
          "model_module_version": "1.5.0",
          "model_name": "HTMLModel",
          "state": {
            "_dom_classes": [],
            "_model_module": "@jupyter-widgets/controls",
            "_model_module_version": "1.5.0",
            "_model_name": "HTMLModel",
            "_view_count": null,
            "_view_module": "@jupyter-widgets/controls",
            "_view_module_version": "1.5.0",
            "_view_name": "HTMLView",
            "description": "",
            "description_tooltip": null,
            "layout": "IPY_MODEL_96a6a5330f44448cbf61da7346704025",
            "placeholder": "​",
            "style": "IPY_MODEL_6f467668736244a8ae5b30e7bb5c5b02",
            "value": "100%"
          }
        },
        "eae142d5cab2495f813f1e08f4876d19": {
          "model_module": "@jupyter-widgets/base",
          "model_module_version": "1.2.0",
          "model_name": "LayoutModel",
          "state": {
            "_model_module": "@jupyter-widgets/base",
            "_model_module_version": "1.2.0",
            "_model_name": "LayoutModel",
            "_view_count": null,
            "_view_module": "@jupyter-widgets/base",
            "_view_module_version": "1.2.0",
            "_view_name": "LayoutView",
            "align_content": null,
            "align_items": null,
            "align_self": null,
            "border": null,
            "bottom": null,
            "display": null,
            "flex": null,
            "flex_flow": null,
            "grid_area": null,
            "grid_auto_columns": null,
            "grid_auto_flow": null,
            "grid_auto_rows": null,
            "grid_column": null,
            "grid_gap": null,
            "grid_row": null,
            "grid_template_areas": null,
            "grid_template_columns": null,
            "grid_template_rows": null,
            "height": null,
            "justify_content": null,
            "justify_items": null,
            "left": null,
            "margin": null,
            "max_height": null,
            "max_width": null,
            "min_height": null,
            "min_width": null,
            "object_fit": null,
            "object_position": null,
            "order": null,
            "overflow": null,
            "overflow_x": null,
            "overflow_y": null,
            "padding": null,
            "right": null,
            "top": null,
            "visibility": null,
            "width": null
          }
        },
        "edbf72cc35d34f5a9a3310811a98a6f0": {
          "model_module": "@jupyter-widgets/controls",
          "model_module_version": "1.5.0",
          "model_name": "DescriptionStyleModel",
          "state": {
            "_model_module": "@jupyter-widgets/controls",
            "_model_module_version": "1.5.0",
            "_model_name": "DescriptionStyleModel",
            "_view_count": null,
            "_view_module": "@jupyter-widgets/base",
            "_view_module_version": "1.2.0",
            "_view_name": "StyleView",
            "description_width": ""
          }
        }
      }
    }
  },
  "nbformat": 4,
  "nbformat_minor": 0
}
