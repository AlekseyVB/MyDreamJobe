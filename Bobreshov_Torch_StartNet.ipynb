{
  "nbformat": 4,
  "nbformat_minor": 0,
  "metadata": {
    "colab": {
      "provenance": []
    },
    "kernelspec": {
      "name": "python3",
      "display_name": "Python 3"
    },
    "accelerator": "GPU"
  },
  "cells": [
    {
      "cell_type": "code",
      "source": [
        "import torch\n",
        "import matplotlib\n",
        "import matplotlib.pyplot as plt\n",
        "matplotlib.rcParams['figure.figsize'] = (15.,5.)"
      ],
      "metadata": {
        "id": "OwBAF8tIV1po"
      },
      "execution_count": 1,
      "outputs": []
    },
    {
      "cell_type": "code",
      "source": [
        "x= torch.rand([2000,4000])\n",
        "x.shape"
      ],
      "metadata": {
        "id": "r_lSEb50V1mw",
        "outputId": "ac6beb0a-230e-47e9-aed8-ab3ac71b43e7",
        "colab": {
          "base_uri": "https://localhost:8080/"
        }
      },
      "execution_count": 2,
      "outputs": [
        {
          "output_type": "execute_result",
          "data": {
            "text/plain": [
              "torch.Size([2000, 4000])"
            ]
          },
          "metadata": {},
          "execution_count": 2
        }
      ]
    },
    {
      "cell_type": "code",
      "source": [
        "torch.device('cuda:0')"
      ],
      "metadata": {
        "id": "6iCZUhaEV1jO",
        "outputId": "7289afde-105f-4bda-d63e-1d2a191a3c38",
        "colab": {
          "base_uri": "https://localhost:8080/"
        }
      },
      "execution_count": 3,
      "outputs": [
        {
          "output_type": "execute_result",
          "data": {
            "text/plain": [
              "device(type='cuda', index=0)"
            ]
          },
          "metadata": {},
          "execution_count": 3
        }
      ]
    },
    {
      "cell_type": "code",
      "source": [
        "# для перемещения вычислений на GPU \n",
        "device = torch.device('cuda:0' if torch.cuda.is_available() else 'cpu') \n",
        "# проверяем где лежит\n",
        "device"
      ],
      "metadata": {
        "id": "BI-2-X-7V1fv",
        "outputId": "2b68e3f6-e055-451c-f978-ad76f0f6570d",
        "colab": {
          "base_uri": "https://localhost:8080/"
        }
      },
      "execution_count": 4,
      "outputs": [
        {
          "output_type": "execute_result",
          "data": {
            "text/plain": [
              "device(type='cuda', index=0)"
            ]
          },
          "metadata": {},
          "execution_count": 4
        }
      ]
    },
    {
      "cell_type": "code",
      "source": [
        "# перемещаем тензор на GPU\n",
        "x_cuda = x.to(device) \n"
      ],
      "metadata": {
        "id": "7nK9ne8GV1cb"
      },
      "execution_count": 5,
      "outputs": []
    },
    {
      "cell_type": "code",
      "source": [
        "# задаём вычисления для тензора Х на CPU\n",
        "%time y = x**2 *x - x *10\n"
      ],
      "metadata": {
        "id": "6a9TNkANZs2F",
        "outputId": "ac9b6743-16ce-4990-d3df-0ac99e7c502a",
        "colab": {
          "base_uri": "https://localhost:8080/"
        }
      },
      "execution_count": 6,
      "outputs": [
        {
          "output_type": "stream",
          "name": "stdout",
          "text": [
            "CPU times: user 23.7 ms, sys: 49.6 ms, total: 73.3 ms\n",
            "Wall time: 82.3 ms\n"
          ]
        }
      ]
    },
    {
      "cell_type": "code",
      "source": [
        "# задаём вычисления для тензора Х на GPU\n",
        "%time y_cuda = x_cuda**2 *x_cuda - x_cuda *10\n"
      ],
      "metadata": {
        "id": "o4GXG5UaV1ZS",
        "outputId": "67b2b5c0-62da-43f2-8fd7-94306609317d",
        "colab": {
          "base_uri": "https://localhost:8080/"
        }
      },
      "execution_count": 7,
      "outputs": [
        {
          "output_type": "stream",
          "name": "stdout",
          "text": [
            "CPU times: user 961 µs, sys: 982 µs, total: 1.94 ms\n",
            "Wall time: 1.79 ms\n"
          ]
        }
      ]
    },
    {
      "cell_type": "code",
      "source": [],
      "metadata": {
        "id": "LMKnQgGVV1V5"
      },
      "execution_count": 7,
      "outputs": []
    },
    {
      "cell_type": "code",
      "source": [
        "x = torch.tensor(\n",
        "   [[2.,4.,6.,8.],\n",
        "    [1.,3.,5.,7.],\n",
        "    [4.,5.,8.,9.]], requires_grad=True # включаем историю requires_grad=True\n",
        ")\n",
        "x\n"
      ],
      "metadata": {
        "id": "Etw7xoPjV1Sl",
        "outputId": "d9532b84-ac40-4d03-fc9b-d10d90fd8694",
        "colab": {
          "base_uri": "https://localhost:8080/"
        }
      },
      "execution_count": 8,
      "outputs": [
        {
          "output_type": "execute_result",
          "data": {
            "text/plain": [
              "tensor([[2., 4., 6., 8.],\n",
              "        [1., 3., 5., 7.],\n",
              "        [4., 5., 8., 9.]], requires_grad=True)"
            ]
          },
          "metadata": {},
          "execution_count": 8
        }
      ]
    },
    {
      "cell_type": "code",
      "source": [
        "# Просмотрим историю вычислений \n",
        "func = 15* (x**3).sum()  \n",
        "\n",
        "func.backward()\n",
        "print (x.grad, '<-- gradient')\n"
      ],
      "metadata": {
        "id": "gyol2OVTV1PH",
        "outputId": "dcbd65c6-d926-4ca7-d6fd-e7222677be96",
        "colab": {
          "base_uri": "https://localhost:8080/"
        }
      },
      "execution_count": 9,
      "outputs": [
        {
          "output_type": "stream",
          "name": "stdout",
          "text": [
            "tensor([[ 180.,  720., 1620., 2880.],\n",
            "        [  45.,  405., 1125., 2205.],\n",
            "        [ 720., 1125., 2880., 3645.]]) <-- gradient\n"
          ]
        }
      ]
    },
    {
      "cell_type": "code",
      "source": [
        "print(\n",
        "f'{func.grad_fn}\\n\\\n",
        "{func.grad_fn.next_functions[0][0]}\\n\\\n",
        "{func.grad_fn.next_functions[0][0].next_functions[0][0]}\\n\\\n",
        "{func.grad_fn.next_functions[0][0].next_functions[0][0].next_functions[0][0]}'\n",
        ")\n",
        "\n",
        "# смотрим историю вычислений\n"
      ],
      "metadata": {
        "id": "KVSJgY2dV1GZ",
        "outputId": "f68c2183-b037-44fb-d007-5410543d1892",
        "colab": {
          "base_uri": "https://localhost:8080/"
        }
      },
      "execution_count": 10,
      "outputs": [
        {
          "output_type": "stream",
          "name": "stdout",
          "text": [
            "<MulBackward0 object at 0x7f047743d490>\n",
            "<SumBackward0 object at 0x7f047743d4c0>\n",
            "<PowBackward0 object at 0x7f047743d4c0>\n",
            "<AccumulateGrad object at 0x7f047743d490>\n"
          ]
        }
      ]
    },
    {
      "cell_type": "code",
      "source": [],
      "metadata": {
        "id": "flbi7BKHaTZo"
      },
      "execution_count": 10,
      "outputs": []
    },
    {
      "cell_type": "markdown",
      "source": [
        "### Net "
      ],
      "metadata": {
        "id": "ec8fUhdNetWO"
      }
    },
    {
      "cell_type": "code",
      "source": [
        "x_train = torch.rand(100)\n",
        "x_train = x_train * 5 - 2\n",
        "print ('Диапазон случайных чисел', x_train.min(), x_train.max())\n",
        "# случайные числа"
      ],
      "metadata": {
        "id": "ZY8dfXOuaTWZ",
        "outputId": "7bc9b200-56a3-4bbe-badc-99065352bce5",
        "colab": {
          "base_uri": "https://localhost:8080/"
        }
      },
      "execution_count": 44,
      "outputs": [
        {
          "output_type": "stream",
          "name": "stdout",
          "text": [
            "Диапазон случайных чисел tensor(-1.9294) tensor(2.8527)\n"
          ]
        }
      ]
    },
    {
      "cell_type": "code",
      "source": [
        "# создаем y train - второй набор данных\n",
        "y_train = torch.cos(x_train)**2\n"
      ],
      "metadata": {
        "id": "Jx23jRMRaTTs"
      },
      "execution_count": 45,
      "outputs": []
    },
    {
      "cell_type": "code",
      "source": [
        "plt.plot(x_train, y_train, 'o') # \n",
        "plt.title('y = cos^2(x)')"
      ],
      "metadata": {
        "id": "qEHLANZ6aTQm",
        "outputId": "96486aa2-34df-4b12-a1e5-60adb153596e",
        "colab": {
          "base_uri": "https://localhost:8080/",
          "height": 353
        }
      },
      "execution_count": 46,
      "outputs": [
        {
          "output_type": "execute_result",
          "data": {
            "text/plain": [
              "Text(0.5, 1.0, 'y = cos^2(x)')"
            ]
          },
          "metadata": {},
          "execution_count": 46
        },
        {
          "output_type": "display_data",
          "data": {
            "text/plain": [
              "<Figure size 1080x360 with 1 Axes>"
            ],
            "image/png": "[encoded data removed]"
          },
          "metadata": {
            "needs_background": "light"
          }
        }
      ]
    },
    {
      "cell_type": "code",
      "source": [
        "noize = torch.randn(y_train.shape) / 3\n",
        "\n",
        "plt.plot(x_train, noize, 'o') # \n",
        "plt.title('случайный шум')\n"
      ],
      "metadata": {
        "id": "1HSOIyOjaTN1",
        "outputId": "9e9f6975-f1ae-40ef-8a5e-d7c34d33495a",
        "colab": {
          "base_uri": "https://localhost:8080/",
          "height": 353
        }
      },
      "execution_count": 48,
      "outputs": [
        {
          "output_type": "execute_result",
          "data": {
            "text/plain": [
              "Text(0.5, 1.0, 'случайный шум')"
            ]
          },
          "metadata": {},
          "execution_count": 48
        },
        {
          "output_type": "display_data",
          "data": {
            "text/plain": [
              "<Figure size 1080x360 with 1 Axes>"
            ],
            "image/png": "[encoded data removed]"
          },
          "metadata": {
            "needs_background": "light"
          }
        }
      ]
    },
    {
      "cell_type": "code",
      "source": [
        "y_train2 = noize + y_train\n",
        "\n",
        "plt.plot(x_train, y_train2, 'o') # \n",
        "plt.title('noize + y_train')"
      ],
      "metadata": {
        "id": "Wb1nT113aTKy",
        "outputId": "f40d0827-de9a-4c1d-af4f-248f6dbd01c5",
        "colab": {
          "base_uri": "https://localhost:8080/",
          "height": 353
        }
      },
      "execution_count": 49,
      "outputs": [
        {
          "output_type": "execute_result",
          "data": {
            "text/plain": [
              "Text(0.5, 1.0, 'noize + y_train')"
            ]
          },
          "metadata": {},
          "execution_count": 49
        },
        {
          "output_type": "display_data",
          "data": {
            "text/plain": [
              "<Figure size 1080x360 with 1 Axes>"
            ],
            "image/png": "[encoded data removed]"
          },
          "metadata": {
            "needs_background": "light"
          }
        }
      ]
    },
    {
      "cell_type": "code",
      "source": [
        "x_train.unsqueeze_(1)\n",
        "y_train2.unsqueeze_(1) ; # ; - что бы не выводил на экран результат "
      ],
      "metadata": {
        "id": "LMNgqzx6aTH7"
      },
      "execution_count": 50,
      "outputs": []
    },
    {
      "cell_type": "code",
      "source": [
        "x_val = torch.linspace(-5, 5, 100)\n",
        "y_val = torch.cos(x_val.data)**2\n",
        "\n",
        "plt.plot(x_val, y_val, 'o')"
      ],
      "metadata": {
        "id": "NDINKo9AaTEt",
        "outputId": "e0f92be5-a626-4694-e40b-56b80e988e50",
        "colab": {
          "base_uri": "https://localhost:8080/",
          "height": 337
        }
      },
      "execution_count": 80,
      "outputs": [
        {
          "output_type": "execute_result",
          "data": {
            "text/plain": [
              "[<matplotlib.lines.Line2D at 0x7f0458e6b6a0>]"
            ]
          },
          "metadata": {},
          "execution_count": 80
        },
        {
          "output_type": "display_data",
          "data": {
            "text/plain": [
              "<Figure size 1080x360 with 1 Axes>"
            ],
            "image/png": "[encoded data removed]"
          },
          "metadata": {
            "needs_background": "light"
          }
        }
      ]
    },
    {
      "cell_type": "code",
      "source": [
        "x_val.unsqueeze_(1)\n",
        "y_val.unsqueeze_(1) ;"
      ],
      "metadata": {
        "id": "uAI1GbHyaTBy"
      },
      "execution_count": 81,
      "outputs": []
    },
    {
      "cell_type": "code",
      "source": [
        "class OurNet(torch.nn.Module):\n",
        "  def __init__(self, n_hod_n):\n",
        "    super(OurNet, self).__init__()\n",
        "    self.fc1 = torch.nn.Linear(1, n_hod_n)\n",
        "    self.act1= torch.nn.Sigmoid()\n",
        "#    self.fc2 = torch.nn.Linear(n_hod_n, n_hod_n)\n",
        "#    self.act2= torch.nn.Sigmoid()\n",
        "#    self.act3= torch.nn.Sigmoid()\n",
        "    self.fc4 = torch.nn.Linear(n_hod_n, 1)\n",
        "  def forward(self, x):\n",
        "    x = self.fc1(x)\n",
        "    x = self.act1(x)\n",
        "#    x = self.fc2(x)\n",
        "#    x = self.act2(x)\n",
        "#    x = self.fc3(x)\n",
        "#    x = self.act3(x)\n",
        "    x = self.fc4(x)\n",
        "    return x\n",
        "    "
      ],
      "metadata": {
        "id": "RVMyaw-yaS-v"
      },
      "execution_count": 82,
      "outputs": []
    },
    {
      "cell_type": "code",
      "source": [
        "# в скобках указываем сколько нейронов в слоях\n",
        "ourNet = OurNet(100) \n"
      ],
      "metadata": {
        "id": "rOQOPg3QaS7l"
      },
      "execution_count": 83,
      "outputs": []
    },
    {
      "cell_type": "code",
      "source": [
        "import numpy\n",
        "\n",
        "def pred(net, x,y):\n",
        "  y_pred = net.forward(x)\n",
        "\n",
        "  plt.plot(x.numpy(), y.numpy(), 'o', c='b', label='Образец (эталон)')\n",
        "  plt.plot(x.numpy(), y_pred.data.numpy(), 'x', c='g', label='Результат сетки')\n",
        "  plt.legend(loc='upper left')"
      ],
      "metadata": {
        "id": "_DbFJM1tmgFk"
      },
      "execution_count": 84,
      "outputs": []
    },
    {
      "cell_type": "code",
      "source": [
        "pred(ourNet, x_val, y_val)"
      ],
      "metadata": {
        "id": "vMyQQQbAmgC0",
        "outputId": "4a8efb0d-e9fe-4674-a45a-9f2205efd79a",
        "colab": {
          "base_uri": "https://localhost:8080/",
          "height": 320
        }
      },
      "execution_count": 85,
      "outputs": [
        {
          "output_type": "display_data",
          "data": {
            "text/plain": [
              "<Figure size 1080x360 with 1 Axes>"
            ],
            "image/png": "[encoded data removed]"
          },
          "metadata": {
            "needs_background": "light"
          }
        }
      ]
    },
    {
      "cell_type": "code",
      "source": [
        "# добавляем оптимайзер для уменьшения коэф. обучения\n",
        "optimizer = torch.optim.Adam(ourNet.parameters(), lr=0.001)"
      ],
      "metadata": {
        "id": "dZHTy5qnmf_6"
      },
      "execution_count": 86,
      "outputs": []
    },
    {
      "cell_type": "code",
      "source": [
        "# сделаем функцию MSE (подсчет среднеквадратичной ошибки)\n",
        "\n",
        "def los(pred, true):\n",
        "  sq = (pred-true)**2\n",
        "  return sq.mean()"
      ],
      "metadata": {
        "id": "5F-iG-NBmf9U"
      },
      "execution_count": 87,
      "outputs": []
    },
    {
      "cell_type": "code",
      "source": [
        "for e in range(10000):\n",
        "  optimizer.zero_grad()\n",
        "\n",
        "  y_pred = ourNet.forward(x_train)\n",
        "  loss_val = los(y_pred, y_train)\n",
        "  loss_val.backward()\n",
        "  optimizer.step()\n",
        "\n",
        "  if not e % 1000:\n",
        "    print (loss_val)\n",
        "\n",
        "    "
      ],
      "metadata": {
        "id": "m5B81R0Nmf6f",
        "outputId": "f4f6f879-ba28-4d48-dd5e-fab3b8c1eca5",
        "colab": {
          "base_uri": "https://localhost:8080/"
        }
      },
      "execution_count": 88,
      "outputs": [
        {
          "output_type": "stream",
          "name": "stdout",
          "text": [
            "tensor(0.9859, grad_fn=<MeanBackward0>)\n",
            "tensor(0.1217, grad_fn=<MeanBackward0>)\n",
            "tensor(0.1217, grad_fn=<MeanBackward0>)\n",
            "tensor(0.1217, grad_fn=<MeanBackward0>)\n",
            "tensor(0.1217, grad_fn=<MeanBackward0>)\n",
            "tensor(0.1217, grad_fn=<MeanBackward0>)\n",
            "tensor(0.1217, grad_fn=<MeanBackward0>)\n",
            "tensor(0.1217, grad_fn=<MeanBackward0>)\n",
            "tensor(0.1217, grad_fn=<MeanBackward0>)\n",
            "tensor(0.1217, grad_fn=<MeanBackward0>)\n"
          ]
        }
      ]
    },
    {
      "cell_type": "code",
      "source": [
        "pred(ourNet, x_val, y_val)"
      ],
      "metadata": {
        "id": "c5H0gmJCmf3q",
        "outputId": "125b325b-61b8-4b87-a491-fec43862a24b",
        "colab": {
          "base_uri": "https://localhost:8080/",
          "height": 320
        }
      },
      "execution_count": 89,
      "outputs": [
        {
          "output_type": "display_data",
          "data": {
            "text/plain": [
              "<Figure size 1080x360 with 1 Axes>"
            ],
            "image/png": "[encoded data removed]"
          },
          "metadata": {
            "needs_background": "light"
          }
        }
      ]
    },
    {
      "cell_type": "code",
      "source": [],
      "metadata": {
        "id": "LZroraMwmf0-"
      },
      "execution_count": 26,
      "outputs": []
    },
    {
      "cell_type": "code",
      "source": [
        "ourNet = OurNet(500)  # увеличиваем в нейронке число нейронов до 55\n",
        "optimizer = torch.optim.Adam(ourNet.parameters(), lr=0.001)"
      ],
      "metadata": {
        "id": "apX8tlrbmfx8"
      },
      "execution_count": 90,
      "outputs": []
    },
    {
      "cell_type": "code",
      "source": [
        "for e in range(10000):\n",
        "  optimizer.zero_grad()\n",
        "\n",
        "  y_pred = ourNet.forward(x_train)\n",
        "  loss_val = los(y_pred, y_train)\n",
        "  if not e % 1000:\n",
        "    print (loss_val)\n",
        "\n",
        "  loss_val.backward()\n",
        "  optimizer.step()"
      ],
      "metadata": {
        "id": "-jIKCYh2sa19",
        "outputId": "10ca6e4e-35ce-4906-c0f4-29ac8f310610",
        "colab": {
          "base_uri": "https://localhost:8080/"
        }
      },
      "execution_count": 91,
      "outputs": [
        {
          "output_type": "stream",
          "name": "stdout",
          "text": [
            "tensor(0.1779, grad_fn=<MeanBackward0>)\n",
            "tensor(0.1217, grad_fn=<MeanBackward0>)\n",
            "tensor(0.1217, grad_fn=<MeanBackward0>)\n",
            "tensor(0.1217, grad_fn=<MeanBackward0>)\n",
            "tensor(0.1217, grad_fn=<MeanBackward0>)\n",
            "tensor(0.1217, grad_fn=<MeanBackward0>)\n",
            "tensor(0.1217, grad_fn=<MeanBackward0>)\n",
            "tensor(0.1217, grad_fn=<MeanBackward0>)\n",
            "tensor(0.1217, grad_fn=<MeanBackward0>)\n",
            "tensor(0.1217, grad_fn=<MeanBackward0>)\n"
          ]
        }
      ]
    },
    {
      "cell_type": "code",
      "source": [
        "pred(ourNet, x_val, y_val)"
      ],
      "metadata": {
        "id": "5pdCoUv9sdXU",
        "outputId": "5566d574-5f7c-460f-d670-a89dc8d7223a",
        "colab": {
          "base_uri": "https://localhost:8080/",
          "height": 320
        }
      },
      "execution_count": 92,
      "outputs": [
        {
          "output_type": "display_data",
          "data": {
            "text/plain": [
              "<Figure size 1080x360 with 1 Axes>"
            ],
            "image/png": "[encoded data removed]"
          },
          "metadata": {
            "needs_background": "light"
          }
        }
      ]
    },
    {
      "cell_type": "code",
      "source": [],
      "metadata": {
        "id": "X14fSh9ps7-9"
      },
      "execution_count": 29,
      "outputs": []
    },
    {
      "cell_type": "code",
      "source": [
        "ourNet = OurNet(155) \n",
        "optimizer = torch.optim.Adam(ourNet.parameters(), lr=0.001)\n",
        "\n",
        "for e in range(5000):\n",
        "  optimizer.zero_grad()\n",
        "\n",
        "  y_pred = ourNet.forward(x_train)\n",
        "  loss_val = los(y_pred, y_train)\n",
        "  if not e % 1000:\n",
        "    print (loss_val)\n",
        "\n",
        "  loss_val.backward()\n",
        "  optimizer.step()\n",
        "\n",
        "pred(ourNet, x_val, y_val)"
      ],
      "metadata": {
        "id": "C0Q1HSUhs78J",
        "outputId": "23214c6b-5a69-46e1-d6c1-ca234039c880",
        "colab": {
          "base_uri": "https://localhost:8080/",
          "height": 407
        }
      },
      "execution_count": 76,
      "outputs": [
        {
          "output_type": "stream",
          "name": "stdout",
          "text": [
            "tensor(0.3782, grad_fn=<MeanBackward0>)\n",
            "tensor(0.1217, grad_fn=<MeanBackward0>)\n",
            "tensor(0.1217, grad_fn=<MeanBackward0>)\n",
            "tensor(0.1217, grad_fn=<MeanBackward0>)\n",
            "tensor(0.1217, grad_fn=<MeanBackward0>)\n"
          ]
        },
        {
          "output_type": "display_data",
          "data": {
            "text/plain": [
              "<Figure size 1080x360 with 1 Axes>"
            ],
            "image/png": "[encoded data removed]"
          },
          "metadata": {
            "needs_background": "light"
          }
        }
      ]
    },
    {
      "cell_type": "code",
      "source": [],
      "metadata": {
        "id": "9fZbUyDls75H"
      },
      "execution_count": 30,
      "outputs": []
    },
    {
      "cell_type": "code",
      "source": [],
      "metadata": {
        "id": "X2rgVruJs72Z"
      },
      "execution_count": 30,
      "outputs": []
    },
    {
      "cell_type": "code",
      "source": [],
      "metadata": {
        "id": "fTmgWXJWs70I"
      },
      "execution_count": 30,
      "outputs": []
    },
    {
      "cell_type": "code",
      "source": [],
      "metadata": {
        "id": "cTYxd_t3s7w7"
      },
      "execution_count": 30,
      "outputs": []
    },
    {
      "cell_type": "code",
      "source": [],
      "metadata": {
        "id": "Bhcqgs9ds7uK"
      },
      "execution_count": 30,
      "outputs": []
    },
    {
      "cell_type": "code",
      "source": [],
      "metadata": {
        "id": "0fjkZVcDs7q8"
      },
      "execution_count": 30,
      "outputs": []
    }
  ]
}