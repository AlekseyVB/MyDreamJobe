{
  "cells": [
    {
      "cell_type": "code",
      "execution_count": 1,
      "metadata": {
        "id": "OwBAF8tIV1po"
      },
      "outputs": [],
      "source": [
        "import torch\n",
        "import matplotlib\n",
        "import matplotlib.pyplot as plt\n",
        "matplotlib.rcParams['figure.figsize'] = (15.,5.)"
      ]
    },
    {
      "cell_type": "code",
      "execution_count": null,
      "metadata": {
        "colab": {
          "base_uri": "https://localhost:8080/"
        },
        "id": "r_lSEb50V1mw",
        "outputId": "ac6beb0a-230e-47e9-aed8-ab3ac71b43e7"
      },
      "outputs": [
        {
          "data": {
            "text/plain": [
              "torch.Size([2000, 4000])"
            ]
          },
          "execution_count": 2,
          "metadata": {},
          "output_type": "execute_result"
        }
      ],
      "source": [
        "x= torch.rand([2000,4000])\n",
        "x.shape"
      ]
    },
    {
      "cell_type": "code",
      "execution_count": null,
      "metadata": {
        "colab": {
          "base_uri": "https://localhost:8080/"
        },
        "id": "6iCZUhaEV1jO",
        "outputId": "7289afde-105f-4bda-d63e-1d2a191a3c38"
      },
      "outputs": [
        {
          "data": {
            "text/plain": [
              "device(type='cuda', index=0)"
            ]
          },
          "execution_count": 3,
          "metadata": {},
          "output_type": "execute_result"
        }
      ],
      "source": [
        "torch.device('cuda:0')"
      ]
    },
    {
      "cell_type": "code",
      "execution_count": null,
      "metadata": {
        "colab": {
          "base_uri": "https://localhost:8080/"
        },
        "id": "BI-2-X-7V1fv",
        "outputId": "2b68e3f6-e055-451c-f978-ad76f0f6570d"
      },
      "outputs": [
        {
          "data": {
            "text/plain": [
              "device(type='cuda', index=0)"
            ]
          },
          "execution_count": 4,
          "metadata": {},
          "output_type": "execute_result"
        }
      ],
      "source": [
        "# для перемещения вычислений на GPU \n",
        "device = torch.device('cuda:0' if torch.cuda.is_available() else 'cpu') \n",
        "# проверяем где лежит\n",
        "device"
      ]
    },
    {
      "cell_type": "code",
      "execution_count": null,
      "metadata": {
        "id": "7nK9ne8GV1cb"
      },
      "outputs": [],
      "source": [
        "# перемещаем тензор на GPU\n",
        "x_cuda = x.to(device) \n"
      ]
    },
    {
      "cell_type": "code",
      "execution_count": null,
      "metadata": {
        "colab": {
          "base_uri": "https://localhost:8080/"
        },
        "id": "6a9TNkANZs2F",
        "outputId": "ac9b6743-16ce-4990-d3df-0ac99e7c502a"
      },
      "outputs": [
        {
          "name": "stdout",
          "output_type": "stream",
          "text": [
            "CPU times: user 23.7 ms, sys: 49.6 ms, total: 73.3 ms\n",
            "Wall time: 82.3 ms\n"
          ]
        }
      ],
      "source": [
        "# задаём вычисления для тензора Х на CPU\n",
        "%time y = x**2 *x - x *10\n"
      ]
    },
    {
      "cell_type": "code",
      "execution_count": null,
      "metadata": {
        "colab": {
          "base_uri": "https://localhost:8080/"
        },
        "id": "o4GXG5UaV1ZS",
        "outputId": "67b2b5c0-62da-43f2-8fd7-94306609317d"
      },
      "outputs": [
        {
          "name": "stdout",
          "output_type": "stream",
          "text": [
            "CPU times: user 961 µs, sys: 982 µs, total: 1.94 ms\n",
            "Wall time: 1.79 ms\n"
          ]
        }
      ],
      "source": [
        "# задаём вычисления для тензора Х на GPU\n",
        "%time y_cuda = x_cuda**2 *x_cuda - x_cuda *10\n"
      ]
    },
    {
      "cell_type": "code",
      "execution_count": null,
      "metadata": {
        "id": "LMKnQgGVV1V5"
      },
      "outputs": [],
      "source": []
    },
    {
      "cell_type": "code",
      "execution_count": null,
      "metadata": {
        "colab": {
          "base_uri": "https://localhost:8080/"
        },
        "id": "Etw7xoPjV1Sl",
        "outputId": "d9532b84-ac40-4d03-fc9b-d10d90fd8694"
      },
      "outputs": [
        {
          "data": {
            "text/plain": [
              "tensor([[2., 4., 6., 8.],\n",
              "        [1., 3., 5., 7.],\n",
              "        [4., 5., 8., 9.]], requires_grad=True)"
            ]
          },
          "execution_count": 8,
          "metadata": {},
          "output_type": "execute_result"
        }
      ],
      "source": [
        "x = torch.tensor(\n",
        "   [[2.,4.,6.,8.],\n",
        "    [1.,3.,5.,7.],\n",
        "    [4.,5.,8.,9.]], requires_grad=True # включаем историю requires_grad=True\n",
        ")\n",
        "x\n"
      ]
    },
    {
      "cell_type": "code",
      "execution_count": null,
      "metadata": {
        "colab": {
          "base_uri": "https://localhost:8080/"
        },
        "id": "gyol2OVTV1PH",
        "outputId": "dcbd65c6-d926-4ca7-d6fd-e7222677be96"
      },
      "outputs": [
        {
          "name": "stdout",
          "output_type": "stream",
          "text": [
            "tensor([[ 180.,  720., 1620., 2880.],\n",
            "        [  45.,  405., 1125., 2205.],\n",
            "        [ 720., 1125., 2880., 3645.]]) <-- gradient\n"
          ]
        }
      ],
      "source": [
        "# Просмотрим историю вычислений \n",
        "func = 15* (x**3).sum()  \n",
        "\n",
        "func.backward()\n",
        "print (x.grad, '<-- gradient')\n"
      ]
    },
    {
      "cell_type": "code",
      "execution_count": null,
      "metadata": {
        "colab": {
          "base_uri": "https://localhost:8080/"
        },
        "id": "KVSJgY2dV1GZ",
        "outputId": "f68c2183-b037-44fb-d007-5410543d1892"
      },
      "outputs": [
        {
          "name": "stdout",
          "output_type": "stream",
          "text": [
            "<MulBackward0 object at 0x7f047743d490>\n",
            "<SumBackward0 object at 0x7f047743d4c0>\n",
            "<PowBackward0 object at 0x7f047743d4c0>\n",
            "<AccumulateGrad object at 0x7f047743d490>\n"
          ]
        }
      ],
      "source": [
        "print(\n",
        "f'{func.grad_fn}\\n\\\n",
        "{func.grad_fn.next_functions[0][0]}\\n\\\n",
        "{func.grad_fn.next_functions[0][0].next_functions[0][0]}\\n\\\n",
        "{func.grad_fn.next_functions[0][0].next_functions[0][0].next_functions[0][0]}'\n",
        ")\n",
        "\n",
        "# смотрим историю вычислений\n"
      ]
    },
    {
      "cell_type": "code",
      "execution_count": null,
      "metadata": {
        "id": "flbi7BKHaTZo"
      },
      "outputs": [],
      "source": []
    },
    {
      "cell_type": "markdown",
      "metadata": {
        "id": "ec8fUhdNetWO"
      },
      "source": [
        "### Net "
      ]
    },
    {
      "cell_type": "code",
      "execution_count": 61,
      "metadata": {
        "colab": {
          "base_uri": "https://localhost:8080/"
        },
        "id": "ZY8dfXOuaTWZ",
        "outputId": "ef4b5ad5-bd88-4f91-801f-d302992cd3a7"
      },
      "outputs": [
        {
          "name": "stdout",
          "output_type": "stream",
          "text": [
            "Диапазон случайных чисел tensor(-2.9763) tensor(2.8823)\n"
          ]
        }
      ],
      "source": [
        "x_train = torch.rand(200)\n",
        "x_train = x_train * 6 - 3\n",
        "print ('Диапазон случайных чисел', x_train.min(), x_train.max())\n",
        "# случайные числа"
      ]
    },
    {
      "cell_type": "code",
      "execution_count": 62,
      "metadata": {
        "colab": {
          "base_uri": "https://localhost:8080/",
          "height": 353
        },
        "id": "Jx23jRMRaTTs",
        "outputId": "815b5f84-f0a0-4b84-ce8a-e153f25ac02e"
      },
      "outputs": [
        {
          "data": {
            "text/plain": [
              "Text(0.5, 1.0, 'y = cos^2(x)')"
            ]
          },
          "execution_count": 62,
          "metadata": {},
          "output_type": "execute_result"
        },
        {
          "data": {
            "image/png": "[encoded data removed]",
            "text/plain": [
              "<Figure size 1080x360 with 1 Axes>"
            ]
          },
          "metadata": {
            "needs_background": "light"
          },
          "output_type": "display_data"
        }
      ],
      "source": [
        "# создаем y train - второй набор данных\n",
        "y_train = torch.cos(x_train)**2\n",
        "\n",
        "# вывод на экран графика созданного примера\n",
        "plt.plot(x_train, y_train, 'o') # \n",
        "plt.title('y = cos^2(x)')\n"
      ]
    },
    {
      "cell_type": "code",
      "execution_count": 63,
      "metadata": {
        "colab": {
          "base_uri": "https://localhost:8080/",
          "height": 353
        },
        "id": "1HSOIyOjaTN1",
        "outputId": "c37ce1b7-edb0-45a3-849e-e3ae4411a9a5"
      },
      "outputs": [
        {
          "data": {
            "text/plain": [
              "Text(0.5, 1.0, 'случайный шум')"
            ]
          },
          "execution_count": 63,
          "metadata": {},
          "output_type": "execute_result"
        },
        {
          "data": {
            "image/png": "[encoded data removed]",
            "text/plain": [
              "<Figure size 1080x360 with 1 Axes>"
            ]
          },
          "metadata": {
            "needs_background": "light"
          },
          "output_type": "display_data"
        }
      ],
      "source": [
        "# создаем случайный шум\n",
        "noize = torch.randn(y_train.shape) / 2.5\n",
        "\n",
        "plt.plot(x_train, noize, 'o') # \n",
        "plt.title('случайный шум')\n"
      ]
    },
    {
      "cell_type": "code",
      "execution_count": 64,
      "metadata": {
        "colab": {
          "base_uri": "https://localhost:8080/",
          "height": 353
        },
        "id": "Wb1nT113aTKy",
        "outputId": "bb25b41a-af3f-4099-92ae-e7aeea68bb70"
      },
      "outputs": [
        {
          "data": {
            "text/plain": [
              "Text(0.5, 1.0, 'noize + y_train')"
            ]
          },
          "execution_count": 64,
          "metadata": {},
          "output_type": "execute_result"
        },
        {
          "data": {
            "image/png": "[encoded data removed]",
            "text/plain": [
              "<Figure size 1080x360 with 1 Axes>"
            ]
          },
          "metadata": {
            "needs_background": "light"
          },
          "output_type": "display_data"
        }
      ],
      "source": [
        "y_train2 = noize + y_train\n",
        "\n",
        "plt.plot(x_train, y_train2, 'o') # \n",
        "plt.title('noize + y_train')"
      ]
    },
    {
      "cell_type": "code",
      "execution_count": 65,
      "metadata": {
        "id": "LMNgqzx6aTH7"
      },
      "outputs": [],
      "source": [
        "x_train.unsqueeze_(1)\n",
        "y_train2.unsqueeze_(1) ; # ; - что бы не выводил на экран результат "
      ]
    },
    {
      "cell_type": "code",
      "execution_count": 66,
      "metadata": {
        "colab": {
          "base_uri": "https://localhost:8080/",
          "height": 337
        },
        "id": "NDINKo9AaTEt",
        "outputId": "ae78adea-646e-41ba-f920-e19e661b10cb"
      },
      "outputs": [
        {
          "data": {
            "text/plain": [
              "[<matplotlib.lines.Line2D at 0x7f9f6fbc2d90>]"
            ]
          },
          "execution_count": 66,
          "metadata": {},
          "output_type": "execute_result"
        },
        {
          "data": {
            "image/png": "[encoded data removed]",
            "text/plain": [
              "<Figure size 1080x360 with 1 Axes>"
            ]
          },
          "metadata": {
            "needs_background": "light"
          },
          "output_type": "display_data"
        }
      ],
      "source": [
        "x_val = torch.linspace(-5, 5, 100)\n",
        "y_val = torch.cos(x_val.data)**2\n",
        "\n",
        "plt.plot(x_val, y_val, 'o')"
      ]
    },
    {
      "cell_type": "code",
      "execution_count": 67,
      "metadata": {
        "id": "uAI1GbHyaTBy"
      },
      "outputs": [],
      "source": [
        "x_val.unsqueeze_(1)\n",
        "y_val.unsqueeze_(1) ;"
      ]
    },
    {
      "cell_type": "code",
      "execution_count": 68,
      "metadata": {
        "id": "RVMyaw-yaS-v"
      },
      "outputs": [],
      "source": [
        "class OurNet(torch.nn.Module):\n",
        "  def __init__(self, n_hod_n):\n",
        "    super(OurNet, self).__init__()\n",
        "    self.fc1 = torch.nn.Linear(1, n_hod_n)\n",
        "    self.act1= torch.nn.Sigmoid()\n",
        "    self.fc4 = torch.nn.Linear(n_hod_n, 1)\n",
        "  def forward(self, x):\n",
        "    x = self.fc1(x)\n",
        "    x = self.act1(x)\n",
        "    x = self.fc4(x)\n",
        "    return x\n",
        "    \n",
        "# первоначально сетка была более сложная (ниже воссоздам)"
      ]
    },
    {
      "cell_type": "code",
      "execution_count": 69,
      "metadata": {
        "id": "_DbFJM1tmgFk"
      },
      "outputs": [],
      "source": [
        "import numpy # для перевода из тензора в массив \n",
        "\n",
        "# создам функцию для вывода на экран результатов работы\n",
        "def pred(net, x,y):\n",
        "  y_pred = net.forward(x)\n",
        "\n",
        "  plt.plot(x.numpy(), y.numpy(), 'o', c='b', label='Образец (эталон)')\n",
        "  plt.plot(x.numpy(), y_pred.data.numpy(), 'x', c='g', label='Результат сетки')\n",
        "  plt.legend(loc='upper left')"
      ]
    },
    {
      "cell_type": "code",
      "execution_count": 70,
      "metadata": {
        "colab": {
          "base_uri": "https://localhost:8080/",
          "height": 320
        },
        "id": "vMyQQQbAmgC0",
        "outputId": "26f764fe-3a82-43db-c982-28ed3759bda3"
      },
      "outputs": [
        {
          "data": {
            "image/png": "[encoded data removed]",
            "text/plain": [
              "<Figure size 1080x360 with 1 Axes>"
            ]
          },
          "metadata": {
            "needs_background": "light"
          },
          "output_type": "display_data"
        }
      ],
      "source": [
        "# создам сетку со 100 нейронами (в скобках)\n",
        "ourNet = OurNet(100) \n",
        "\n",
        "\n",
        "pred(ourNet, x_val, y_val)"
      ]
    },
    {
      "cell_type": "code",
      "execution_count": 71,
      "metadata": {
        "id": "5F-iG-NBmf9U"
      },
      "outputs": [],
      "source": [
        "# сделаю функцию MSE (подсчет среднеквадратичной ошибки)\n",
        "\n",
        "def los(pred, true):\n",
        "  sq = (pred-true)**2\n",
        "  return sq.mean()"
      ]
    },
    {
      "cell_type": "code",
      "execution_count": 72,
      "metadata": {
        "colab": {
          "base_uri": "https://localhost:8080/"
        },
        "id": "m5B81R0Nmf6f",
        "outputId": "60a6481a-e24e-4b7e-a937-7b886987fdc7"
      },
      "outputs": [
        {
          "name": "stdout",
          "output_type": "stream",
          "text": [
            "tensor(0.6405, grad_fn=<MeanBackward0>)\n",
            "tensor(0.2272, grad_fn=<MeanBackward0>)\n",
            "tensor(0.1524, grad_fn=<MeanBackward0>)\n",
            "tensor(0.1502, grad_fn=<MeanBackward0>)\n",
            "tensor(0.1495, grad_fn=<MeanBackward0>)\n",
            "tensor(0.1487, grad_fn=<MeanBackward0>)\n",
            "tensor(0.1476, grad_fn=<MeanBackward0>)\n",
            "tensor(0.1466, grad_fn=<MeanBackward0>)\n",
            "tensor(0.1459, grad_fn=<MeanBackward0>)\n",
            "tensor(0.1453, grad_fn=<MeanBackward0>)\n"
          ]
        }
      ],
      "source": [
        "# добавлю оптимайзер для уменьшения коэф. обучения\n",
        "optimizer = torch.optim.Adam(ourNet.parameters(), lr=0.001)\n",
        "\n",
        "for e in range(10000):   # создам цикл для повторения итераций обучения\n",
        "  optimizer.zero_grad()  # обнуление градиента (что бы каждый раз начинался с нулей)\n",
        "\n",
        "  y_pred = ourNet.forward(x_train)\n",
        "  loss_val = los(y_pred, y_train2)\n",
        "  loss_val.backward()\n",
        "  optimizer.step()\n",
        "\n",
        "# код говорит о том что нужно выводить на экран каждую 1000-ую эпоху\n",
        "  if not e % 1000:    \n",
        "    print (loss_val)\n"
      ]
    },
    {
      "cell_type": "code",
      "execution_count": 73,
      "metadata": {
        "colab": {
          "base_uri": "https://localhost:8080/",
          "height": 320
        },
        "id": "c5H0gmJCmf3q",
        "outputId": "520ce39b-bcb7-4d8d-c65d-ef3f4e382d02"
      },
      "outputs": [
        {
          "data": {
            "image/png": "[encoded data removed]",
            "text/plain": [
              "<Figure size 1080x360 with 1 Axes>"
            ]
          },
          "metadata": {
            "needs_background": "light"
          },
          "output_type": "display_data"
        }
      ],
      "source": [
        "pred(ourNet, x_val, y_val)"
      ]
    },
    {
      "cell_type": "code",
      "execution_count": null,
      "metadata": {
        "id": "LZroraMwmf0-"
      },
      "outputs": [],
      "source": []
    },
    {
      "cell_type": "code",
      "execution_count": 74,
      "metadata": {
        "colab": {
          "base_uri": "https://localhost:8080/"
        },
        "id": "-jIKCYh2sa19",
        "outputId": "535dc6ac-25f6-4da3-b38d-554eb7423b1c"
      },
      "outputs": [
        {
          "name": "stdout",
          "output_type": "stream",
          "text": [
            "tensor(0.4178, grad_fn=<MeanBackward0>)\n",
            "tensor(0.1524, grad_fn=<MeanBackward0>)\n",
            "tensor(0.1501, grad_fn=<MeanBackward0>)\n",
            "tensor(0.1497, grad_fn=<MeanBackward0>)\n",
            "tensor(0.1492, grad_fn=<MeanBackward0>)\n",
            "tensor(0.1487, grad_fn=<MeanBackward0>)\n",
            "tensor(0.1483, grad_fn=<MeanBackward0>)\n",
            "tensor(0.1479, grad_fn=<MeanBackward0>)\n",
            "tensor(0.1476, grad_fn=<MeanBackward0>)\n",
            "tensor(0.1470, grad_fn=<MeanBackward0>)\n"
          ]
        }
      ],
      "source": [
        "ourNet = OurNet(300)  # увеличиваем в нейронке число нейронов до 300\n",
        "optimizer = torch.optim.Adam(ourNet.parameters(), lr=0.001)\n",
        "\n",
        "\n",
        "for e in range(10000):\n",
        "  optimizer.zero_grad()\n",
        "\n",
        "  y_pred = ourNet.forward(x_train)\n",
        "  loss_val = los(y_pred, y_train2)\n",
        "  if not e % 1000:\n",
        "    print (loss_val)\n",
        "\n",
        "  loss_val.backward()\n",
        "  optimizer.step()"
      ]
    },
    {
      "cell_type": "code",
      "execution_count": 75,
      "metadata": {
        "colab": {
          "base_uri": "https://localhost:8080/",
          "height": 320
        },
        "id": "5pdCoUv9sdXU",
        "outputId": "5d8a82d7-a8f8-4c98-ee5a-e7cfd9a5ef6f"
      },
      "outputs": [
        {
          "data": {
            "image/png": "[encoded data removed]",
            "text/plain": [
              "<Figure size 1080x360 with 1 Axes>"
            ]
          },
          "metadata": {
            "needs_background": "light"
          },
          "output_type": "display_data"
        }
      ],
      "source": [
        "pred(ourNet, x_val, y_val)"
      ]
    },
    {
      "cell_type": "code",
      "execution_count": null,
      "metadata": {
        "id": "X14fSh9ps7-9"
      },
      "outputs": [],
      "source": []
    },
    {
      "cell_type": "code",
      "execution_count": 76,
      "metadata": {
        "colab": {
          "base_uri": "https://localhost:8080/",
          "height": 494
        },
        "id": "C0Q1HSUhs78J",
        "outputId": "36a9f88f-9e05-4f3b-ae76-c5730a8b171e"
      },
      "outputs": [
        {
          "name": "stdout",
          "output_type": "stream",
          "text": [
            "tensor(0.7542, grad_fn=<MeanBackward0>)\n",
            "tensor(0.1609, grad_fn=<MeanBackward0>)\n",
            "tensor(0.1503, grad_fn=<MeanBackward0>)\n",
            "tensor(0.1499, grad_fn=<MeanBackward0>)\n",
            "tensor(0.1502, grad_fn=<MeanBackward0>)\n",
            "tensor(0.1495, grad_fn=<MeanBackward0>)\n",
            "tensor(0.1492, grad_fn=<MeanBackward0>)\n",
            "tensor(0.1487, grad_fn=<MeanBackward0>)\n",
            "tensor(0.1482, grad_fn=<MeanBackward0>)\n",
            "tensor(0.1477, grad_fn=<MeanBackward0>)\n"
          ]
        },
        {
          "data": {
            "image/png": "[encoded data removed]",
            "text/plain": [
              "<Figure size 1080x360 with 1 Axes>"
            ]
          },
          "metadata": {
            "needs_background": "light"
          },
          "output_type": "display_data"
        }
      ],
      "source": [
        "ourNet = OurNet(600) \n",
        "optimizer = torch.optim.Adam(ourNet.parameters(), lr=0.001)\n",
        "\n",
        "for e in range(10000):\n",
        "  optimizer.zero_grad()\n",
        "\n",
        "  y_pred = ourNet.forward(x_train)\n",
        "  loss_val = los(y_pred, y_train2)\n",
        "  if not e % 1000:\n",
        "    print (loss_val)\n",
        "\n",
        "  loss_val.backward()\n",
        "  optimizer.step()\n",
        "\n",
        "pred(ourNet, x_val, y_val)"
      ]
    },
    {
      "cell_type": "code",
      "execution_count": null,
      "metadata": {
        "id": "f4_HTPz-nUqo"
      },
      "outputs": [],
      "source": []
    },
    {
      "cell_type": "code",
      "execution_count": 85,
      "metadata": {
        "colab": {
          "base_uri": "https://localhost:8080/",
          "height": 841
        },
        "id": "pCY94L_VnUnC",
        "outputId": "b8e82578-34ff-4eb4-b29a-b9993fecebdb"
      },
      "outputs": [
        {
          "name": "stdout",
          "output_type": "stream",
          "text": [
            "tensor(0.4599, grad_fn=<MeanBackward0>)\n",
            "CPU times: user 621 µs, sys: 0 ns, total: 621 µs\n",
            "Wall time: 632 µs\n",
            "tensor(0.2922, grad_fn=<MeanBackward0>)\n",
            "CPU times: user 457 µs, sys: 0 ns, total: 457 µs\n",
            "Wall time: 466 µs\n",
            "tensor(0.2801, grad_fn=<MeanBackward0>)\n",
            "CPU times: user 502 µs, sys: 0 ns, total: 502 µs\n",
            "Wall time: 511 µs\n",
            "tensor(0.2465, grad_fn=<MeanBackward0>)\n",
            "CPU times: user 479 µs, sys: 0 ns, total: 479 µs\n",
            "Wall time: 487 µs\n",
            "tensor(0.1910, grad_fn=<MeanBackward0>)\n",
            "CPU times: user 464 µs, sys: 5 µs, total: 469 µs\n",
            "Wall time: 478 µs\n",
            "tensor(0.1569, grad_fn=<MeanBackward0>)\n",
            "CPU times: user 463 µs, sys: 5 µs, total: 468 µs\n",
            "Wall time: 478 µs\n",
            "tensor(0.1517, grad_fn=<MeanBackward0>)\n",
            "CPU times: user 479 µs, sys: 0 ns, total: 479 µs\n",
            "Wall time: 487 µs\n",
            "tensor(0.1510, grad_fn=<MeanBackward0>)\n",
            "CPU times: user 457 µs, sys: 0 ns, total: 457 µs\n",
            "Wall time: 465 µs\n",
            "tensor(0.1505, grad_fn=<MeanBackward0>)\n",
            "CPU times: user 459 µs, sys: 4 µs, total: 463 µs\n",
            "Wall time: 473 µs\n",
            "tensor(0.1502, grad_fn=<MeanBackward0>)\n",
            "CPU times: user 479 µs, sys: 0 ns, total: 479 µs\n",
            "Wall time: 488 µs\n"
          ]
        },
        {
          "data": {
            "image/png": "[encoded data removed]",
            "text/plain": [
              "<Figure size 1080x360 with 1 Axes>"
            ]
          },
          "metadata": {
            "needs_background": "light"
          },
          "output_type": "display_data"
        }
      ],
      "source": [
        "ourNet = OurNet(600) \n",
        "optimizer = torch.optim.Adam(ourNet.parameters(), lr=0.0001) # шаг обучения уменьшили в 10раз\n",
        "\n",
        "for e in range(10000):\n",
        "  optimizer.zero_grad()\n",
        "\n",
        "  y_pred = ourNet.forward(x_train)\n",
        "  loss_val = los(y_pred, y_train2)\n",
        "  if not e % 1000:\n",
        "    %time print (loss_val)\n",
        "\n",
        "  loss_val.backward()\n",
        "  optimizer.step()\n",
        "\n",
        "pred(ourNet, x_val, y_val)"
      ]
    },
    {
      "cell_type": "code",
      "execution_count": null,
      "metadata": {
        "id": "0zdsPlUmnUkH"
      },
      "outputs": [],
      "source": []
    },
    {
      "cell_type": "code",
      "execution_count": null,
      "metadata": {
        "id": "9fZbUyDls75H"
      },
      "outputs": [],
      "source": []
    },
    {
      "cell_type": "code",
      "execution_count": 78,
      "metadata": {
        "id": "X2rgVruJs72Z"
      },
      "outputs": [],
      "source": [
        "class OurNet2(torch.nn.Module):\n",
        "  def __init__(self, n_hod_n):\n",
        "    super(OurNet2, self).__init__()\n",
        "    self.fc1 = torch.nn.Linear(1, n_hod_n)\n",
        "    self.act1= torch.nn.Sigmoid()\n",
        "    self.fc2 = torch.nn.Linear(n_hod_n, n_hod_n)\n",
        "    self.act2= torch.nn.Sigmoid()\n",
        "    self.fc3 = torch.nn.Linear(n_hod_n, n_hod_n)\n",
        "    self.act3= torch.nn.Sigmoid()\n",
        "    self.fc4 = torch.nn.Linear(n_hod_n, 1)\n",
        "  def forward(self, x):\n",
        "    x = self.fc1(x)\n",
        "    x = self.act1(x)\n",
        "    x = self.fc2(x)\n",
        "    x = self.act2(x)\n",
        "    x = self.fc3(x)\n",
        "    x = self.act3(x)\n",
        "    x = self.fc4(x)\n",
        "    return x\n",
        "    "
      ]
    },
    {
      "cell_type": "code",
      "execution_count": 83,
      "metadata": {
        "colab": {
          "base_uri": "https://localhost:8080/",
          "height": 580
        },
        "id": "cTYxd_t3s7w7",
        "outputId": "4a302a9b-53d2-45ff-c5c9-8ce3b079d41d"
      },
      "outputs": [
        {
          "name": "stdout",
          "output_type": "stream",
          "text": [
            "tensor(0.7692, grad_fn=<MeanBackward0>)\n",
            "CPU times: user 1.67 ms, sys: 0 ns, total: 1.67 ms\n",
            "Wall time: 3.45 ms\n",
            "tensor(0.7692, grad_fn=<MeanBackward0>)\n",
            "CPU times: user 432 µs, sys: 0 ns, total: 432 µs\n",
            "Wall time: 440 µs\n",
            "tensor(0.7692, grad_fn=<MeanBackward0>)\n",
            "CPU times: user 454 µs, sys: 0 ns, total: 454 µs\n",
            "Wall time: 464 µs\n",
            "tensor(0.7692, grad_fn=<MeanBackward0>)\n",
            "CPU times: user 435 µs, sys: 5 µs, total: 440 µs\n",
            "Wall time: 448 µs\n",
            "tensor(0.7692, grad_fn=<MeanBackward0>)\n",
            "CPU times: user 457 µs, sys: 0 ns, total: 457 µs\n",
            "Wall time: 466 µs\n"
          ]
        },
        {
          "data": {
            "image/png": "[encoded data removed]",
            "text/plain": [
              "<Figure size 1080x360 with 1 Axes>"
            ]
          },
          "metadata": {
            "needs_background": "light"
          },
          "output_type": "display_data"
        }
      ],
      "source": [
        "ourNet2 = OurNet2(25) \n",
        "optimizer = torch.optim.Adam(ourNet.parameters(), lr=0.001)\n",
        "\n",
        "for e in range(5000):\n",
        "  optimizer.zero_grad()\n",
        "\n",
        "  y_pred = ourNet2.forward(x_train)\n",
        "  loss_val = los(y_pred, y_train2)\n",
        "  if not e % 1000:\n",
        "    %time print (loss_val)\n",
        "\n",
        "  loss_val.backward()\n",
        "  optimizer.step()\n",
        "\n",
        "pred(ourNet2, x_val, y_val)"
      ]
    },
    {
      "cell_type": "code",
      "execution_count": null,
      "metadata": {
        "id": "Bhcqgs9ds7uK"
      },
      "outputs": [],
      "source": [
        "#   КАК ВИДИМ БОЛЕЕ СЛОЖНАЯ СТРУКТУРА НЕЙРОНКИ ПРОСТО ЗАУЧИВАЕТ ДАННЫЕ И НЕ ПРИВОДИТ К НУЖНОМУ РЕЗУЛЬТАТУ. \n",
        "#   ИМЕННО ПО ЭТОЦ ПРИЧИНЕ СТОИТ НАЧИНАТЬ С САМЫХ ПРОСТЫХ АРХИТЕКТУР NET\n",
        "#   ДОБАВИВ ИЗМЕРЕНИЕ ВРЕМЕНИ, ЕЩЁ ОДИН ВЫВОД СЛОЖНАЯ СЕТЬ С 25 НЕЙРОНАМИ ПО ВРЕМЕНИ КАК ПРОСТАЯ С 600 НЕЙРОНАМИ\n",
        "#   И К ТОМУЖЕ, ПЛЮСОМ, НЕ ДАЛА НИКАКОГО РЕЗУЛЬТАТ "
      ]
    },
    {
      "cell_type": "code",
      "execution_count": null,
      "metadata": {
        "id": "0fjkZVcDs7q8"
      },
      "outputs": [],
      "source": []
    }
  ],
  "metadata": {
    "accelerator": "GPU",
    "colab": {
      "provenance": []
    },
    "kernelspec": {
      "display_name": "Python 3",
      "language": "python",
      "name": "python3"
    },
    "language_info": {
      "name": "python",
      "version": "3.11.1 (tags/v3.11.1:a7a450f, Dec  6 2022, 19:58:39) [MSC v.1934 64 bit (AMD64)]"
    },
    "vscode": {
      "interpreter": {
        "hash": "f5d60dadaadefcdc8ea71f1b2a7d61f81b140c3ffed39f6be6e95efa72c685b2"
      }
    }
  },
  "nbformat": 4,
  "nbformat_minor": 0
}
